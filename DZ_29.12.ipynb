{
  "cells": [
    {
      "cell_type": "code",
      "execution_count": 260,
      "metadata": {
        "id": "Zj2wH8p_i-Ub"
      },
      "outputs": [],
      "source": [
        "import numpy as np              # Одномерные и многомерные массивы (array)\n",
        "import pandas as pd             # Таблицы и временные ряды (dataframe, series)\n",
        "import matplotlib.pyplot as plt # Научная графика\n",
        "import seaborn as sns           # Еще больше красивой графики для визуализации данных\n",
        "import sklearn                  # Алгоритмы машинного обучения\n",
        "from mpl_toolkits.mplot3d import Axes3D\n",
        "from sklearn.preprocessing import OneHotEncoder\n",
        "from sklearn.preprocessing import StandardScaler\n",
        "from sklearn.preprocessing import LabelEncoder"
      ]
    },
    {
      "cell_type": "markdown",
      "metadata": {
        "id": "udc4UfOai-Ug"
      },
      "source": [
        "# **Прогнозирование количества самоубийств**\n"
      ]
    },
    {
      "cell_type": "markdown",
      "metadata": {
        "id": "jnGXOq2M8UeD"
      },
      "source": [
        "##1. Описание задачи\n"
      ]
    },
    {
      "cell_type": "markdown",
      "metadata": {
        "id": "xjT1zPO985Ad"
      },
      "source": [
        "Датасет `master4.csv` позволяет исследователям и аналитикам изучать тенденции в самоубийствах по различным странам и регионам, а также выявлять возможные факторы, влияющие на уровень самоубийств, такие как экономическое положение, возраст и пол. Анализ данных может помочь разработать меры по предотвращению самоубийств и улучшению психического здоровья населения.\n",
        "\n",
        "Датасет является ценным инструментом для проведения исследований в области общественного здравоохранения, психологии, социологии и экономики."
      ]
    },
    {
      "cell_type": "markdown",
      "metadata": {
        "id": "zxpXwG3R-1Iq"
      },
      "source": [
        "Данный датасет содержит следующие признаки:\n",
        "- `country` - название страны\n",
        "- `year` - год, за который предоставлены данные\n",
        "- `sex` - пол (мужской/женский)\n",
        "- `age` - возрастная группа\n",
        "- `suicides_no` - количество самоубийств\n",
        "- `population` - численность населения\n",
        "- `suicides/100k pop` - количество самоубийств на 100 тыс. человек\n",
        "- `country-year` - комбинированное значение страны и года\n",
        "- `HDI for year` - индекс человеческого развития для года\n",
        "- `gdp_for_year ($)`  - ВВП страны за год\n",
        "- `gdp_per_capita ($)`  - ВВП на душу населения\n",
        "- `generation` - поколение, к которому относится человек, совершивший самоубийство\n"
      ]
    },
    {
      "cell_type": "markdown",
      "metadata": {
        "id": "yG_3iF2mFwip"
      },
      "source": [
        "##2. Чтение данных"
      ]
    },
    {
      "cell_type": "markdown",
      "metadata": {
        "id": "PI2iz4y0i-Ug"
      },
      "source": [
        "Загрузка данных из интернета:\n"
      ]
    },
    {
      "cell_type": "code",
      "execution_count": 261,
      "metadata": {
        "id": "TWaSEcgBi-Uh",
        "colab": {
          "base_uri": "https://localhost:8080/"
        },
        "outputId": "5e70cc6f-76de-47ae-d8ef-55e5a2013875"
      },
      "outputs": [
        {
          "output_type": "execute_result",
          "data": {
            "text/plain": [
              "(27820, 12)"
            ]
          },
          "metadata": {},
          "execution_count": 261
        }
      ],
      "source": [
        "url = \"https://raw.githubusercontent.com/Maria02179/DZ_po_MOAD/main/master4.csv\"\n",
        "data_raw = pd.read_csv(url)\n",
        "data_raw.shape"
      ]
    },
    {
      "cell_type": "markdown",
      "metadata": {
        "id": "628FicBnGcrS"
      },
      "source": [
        "В текущем наборе данных содержится информация о 27820 наблюдениях, разделённая на  12 признака. Ознакомимся с информацией, хранящейся в нем"
      ]
    },
    {
      "cell_type": "code",
      "execution_count": 262,
      "metadata": {
        "id": "4ANxv2lPu11e",
        "colab": {
          "base_uri": "https://localhost:8080/",
          "height": 0
        },
        "outputId": "3ae4b7da-55c6-43ef-a9dc-2d08373bb3c7"
      },
      "outputs": [
        {
          "output_type": "execute_result",
          "data": {
            "text/plain": [
              "          country  year     sex          age  suicides_no  population  \\\n",
              "0         Albania  1987    male  15-24 years           21      312900   \n",
              "1         Albania  1987    male  35-54 years           16      308000   \n",
              "2         Albania  1987  female  15-24 years           14      289700   \n",
              "3         Albania  1987    male    75+ years            1       21800   \n",
              "4         Albania  1987    male  25-34 years            9      274300   \n",
              "...           ...   ...     ...          ...          ...         ...   \n",
              "27815  Uzbekistan  2014  female  35-54 years          107     3620833   \n",
              "27816  Uzbekistan  2014  female    75+ years            9      348465   \n",
              "27817  Uzbekistan  2014    male  05-14 years           60     2762158   \n",
              "27818  Uzbekistan  2014  female  05-14 years           44     2631600   \n",
              "27819  Uzbekistan  2014  female  55-74 years           21     1438935   \n",
              "\n",
              "       suicides/100k pop    country-year  HDI for year  gdp_for_year ($)  \\\n",
              "0                   6.71     Albania1987           NaN        2156624900   \n",
              "1                   5.19     Albania1987           NaN        2156624900   \n",
              "2                   4.83     Albania1987           NaN        2156624900   \n",
              "3                   4.59     Albania1987           NaN        2156624900   \n",
              "4                   3.28     Albania1987           NaN        2156624900   \n",
              "...                  ...             ...           ...               ...   \n",
              "27815               2.96  Uzbekistan2014         0.675       63067077179   \n",
              "27816               2.58  Uzbekistan2014         0.675       63067077179   \n",
              "27817               2.17  Uzbekistan2014         0.675       63067077179   \n",
              "27818               1.67  Uzbekistan2014         0.675       63067077179   \n",
              "27819               1.46  Uzbekistan2014         0.675       63067077179   \n",
              "\n",
              "       gdp_per_capita ($)         generation  \n",
              "0                     796     4.Generation X  \n",
              "1                     796           2.Silent  \n",
              "2                     796     4.Generation X  \n",
              "3                     796  1.G.I. Generation  \n",
              "4                     796          3.Boomers  \n",
              "...                   ...                ...  \n",
              "27815                2309     4.Generation X  \n",
              "27816                2309           2.Silent  \n",
              "27817                2309     6.Generation Z  \n",
              "27818                2309     6.Generation Z  \n",
              "27819                2309          3.Boomers  \n",
              "\n",
              "[27820 rows x 12 columns]"
            ],
            "text/html": [
              "\n",
              "  <div id=\"df-d94d7676-3554-49d3-a5b1-57d7eee7705c\" class=\"colab-df-container\">\n",
              "    <div>\n",
              "<style scoped>\n",
              "    .dataframe tbody tr th:only-of-type {\n",
              "        vertical-align: middle;\n",
              "    }\n",
              "\n",
              "    .dataframe tbody tr th {\n",
              "        vertical-align: top;\n",
              "    }\n",
              "\n",
              "    .dataframe thead th {\n",
              "        text-align: right;\n",
              "    }\n",
              "</style>\n",
              "<table border=\"1\" class=\"dataframe\">\n",
              "  <thead>\n",
              "    <tr style=\"text-align: right;\">\n",
              "      <th></th>\n",
              "      <th>country</th>\n",
              "      <th>year</th>\n",
              "      <th>sex</th>\n",
              "      <th>age</th>\n",
              "      <th>suicides_no</th>\n",
              "      <th>population</th>\n",
              "      <th>suicides/100k pop</th>\n",
              "      <th>country-year</th>\n",
              "      <th>HDI for year</th>\n",
              "      <th>gdp_for_year ($)</th>\n",
              "      <th>gdp_per_capita ($)</th>\n",
              "      <th>generation</th>\n",
              "    </tr>\n",
              "  </thead>\n",
              "  <tbody>\n",
              "    <tr>\n",
              "      <th>0</th>\n",
              "      <td>Albania</td>\n",
              "      <td>1987</td>\n",
              "      <td>male</td>\n",
              "      <td>15-24 years</td>\n",
              "      <td>21</td>\n",
              "      <td>312900</td>\n",
              "      <td>6.71</td>\n",
              "      <td>Albania1987</td>\n",
              "      <td>NaN</td>\n",
              "      <td>2156624900</td>\n",
              "      <td>796</td>\n",
              "      <td>4.Generation X</td>\n",
              "    </tr>\n",
              "    <tr>\n",
              "      <th>1</th>\n",
              "      <td>Albania</td>\n",
              "      <td>1987</td>\n",
              "      <td>male</td>\n",
              "      <td>35-54 years</td>\n",
              "      <td>16</td>\n",
              "      <td>308000</td>\n",
              "      <td>5.19</td>\n",
              "      <td>Albania1987</td>\n",
              "      <td>NaN</td>\n",
              "      <td>2156624900</td>\n",
              "      <td>796</td>\n",
              "      <td>2.Silent</td>\n",
              "    </tr>\n",
              "    <tr>\n",
              "      <th>2</th>\n",
              "      <td>Albania</td>\n",
              "      <td>1987</td>\n",
              "      <td>female</td>\n",
              "      <td>15-24 years</td>\n",
              "      <td>14</td>\n",
              "      <td>289700</td>\n",
              "      <td>4.83</td>\n",
              "      <td>Albania1987</td>\n",
              "      <td>NaN</td>\n",
              "      <td>2156624900</td>\n",
              "      <td>796</td>\n",
              "      <td>4.Generation X</td>\n",
              "    </tr>\n",
              "    <tr>\n",
              "      <th>3</th>\n",
              "      <td>Albania</td>\n",
              "      <td>1987</td>\n",
              "      <td>male</td>\n",
              "      <td>75+ years</td>\n",
              "      <td>1</td>\n",
              "      <td>21800</td>\n",
              "      <td>4.59</td>\n",
              "      <td>Albania1987</td>\n",
              "      <td>NaN</td>\n",
              "      <td>2156624900</td>\n",
              "      <td>796</td>\n",
              "      <td>1.G.I. Generation</td>\n",
              "    </tr>\n",
              "    <tr>\n",
              "      <th>4</th>\n",
              "      <td>Albania</td>\n",
              "      <td>1987</td>\n",
              "      <td>male</td>\n",
              "      <td>25-34 years</td>\n",
              "      <td>9</td>\n",
              "      <td>274300</td>\n",
              "      <td>3.28</td>\n",
              "      <td>Albania1987</td>\n",
              "      <td>NaN</td>\n",
              "      <td>2156624900</td>\n",
              "      <td>796</td>\n",
              "      <td>3.Boomers</td>\n",
              "    </tr>\n",
              "    <tr>\n",
              "      <th>...</th>\n",
              "      <td>...</td>\n",
              "      <td>...</td>\n",
              "      <td>...</td>\n",
              "      <td>...</td>\n",
              "      <td>...</td>\n",
              "      <td>...</td>\n",
              "      <td>...</td>\n",
              "      <td>...</td>\n",
              "      <td>...</td>\n",
              "      <td>...</td>\n",
              "      <td>...</td>\n",
              "      <td>...</td>\n",
              "    </tr>\n",
              "    <tr>\n",
              "      <th>27815</th>\n",
              "      <td>Uzbekistan</td>\n",
              "      <td>2014</td>\n",
              "      <td>female</td>\n",
              "      <td>35-54 years</td>\n",
              "      <td>107</td>\n",
              "      <td>3620833</td>\n",
              "      <td>2.96</td>\n",
              "      <td>Uzbekistan2014</td>\n",
              "      <td>0.675</td>\n",
              "      <td>63067077179</td>\n",
              "      <td>2309</td>\n",
              "      <td>4.Generation X</td>\n",
              "    </tr>\n",
              "    <tr>\n",
              "      <th>27816</th>\n",
              "      <td>Uzbekistan</td>\n",
              "      <td>2014</td>\n",
              "      <td>female</td>\n",
              "      <td>75+ years</td>\n",
              "      <td>9</td>\n",
              "      <td>348465</td>\n",
              "      <td>2.58</td>\n",
              "      <td>Uzbekistan2014</td>\n",
              "      <td>0.675</td>\n",
              "      <td>63067077179</td>\n",
              "      <td>2309</td>\n",
              "      <td>2.Silent</td>\n",
              "    </tr>\n",
              "    <tr>\n",
              "      <th>27817</th>\n",
              "      <td>Uzbekistan</td>\n",
              "      <td>2014</td>\n",
              "      <td>male</td>\n",
              "      <td>05-14 years</td>\n",
              "      <td>60</td>\n",
              "      <td>2762158</td>\n",
              "      <td>2.17</td>\n",
              "      <td>Uzbekistan2014</td>\n",
              "      <td>0.675</td>\n",
              "      <td>63067077179</td>\n",
              "      <td>2309</td>\n",
              "      <td>6.Generation Z</td>\n",
              "    </tr>\n",
              "    <tr>\n",
              "      <th>27818</th>\n",
              "      <td>Uzbekistan</td>\n",
              "      <td>2014</td>\n",
              "      <td>female</td>\n",
              "      <td>05-14 years</td>\n",
              "      <td>44</td>\n",
              "      <td>2631600</td>\n",
              "      <td>1.67</td>\n",
              "      <td>Uzbekistan2014</td>\n",
              "      <td>0.675</td>\n",
              "      <td>63067077179</td>\n",
              "      <td>2309</td>\n",
              "      <td>6.Generation Z</td>\n",
              "    </tr>\n",
              "    <tr>\n",
              "      <th>27819</th>\n",
              "      <td>Uzbekistan</td>\n",
              "      <td>2014</td>\n",
              "      <td>female</td>\n",
              "      <td>55-74 years</td>\n",
              "      <td>21</td>\n",
              "      <td>1438935</td>\n",
              "      <td>1.46</td>\n",
              "      <td>Uzbekistan2014</td>\n",
              "      <td>0.675</td>\n",
              "      <td>63067077179</td>\n",
              "      <td>2309</td>\n",
              "      <td>3.Boomers</td>\n",
              "    </tr>\n",
              "  </tbody>\n",
              "</table>\n",
              "<p>27820 rows × 12 columns</p>\n",
              "</div>\n",
              "    <div class=\"colab-df-buttons\">\n",
              "\n",
              "  <div class=\"colab-df-container\">\n",
              "    <button class=\"colab-df-convert\" onclick=\"convertToInteractive('df-d94d7676-3554-49d3-a5b1-57d7eee7705c')\"\n",
              "            title=\"Convert this dataframe to an interactive table.\"\n",
              "            style=\"display:none;\">\n",
              "\n",
              "  <svg xmlns=\"http://www.w3.org/2000/svg\" height=\"24px\" viewBox=\"0 -960 960 960\">\n",
              "    <path d=\"M120-120v-720h720v720H120Zm60-500h600v-160H180v160Zm220 220h160v-160H400v160Zm0 220h160v-160H400v160ZM180-400h160v-160H180v160Zm440 0h160v-160H620v160ZM180-180h160v-160H180v160Zm440 0h160v-160H620v160Z\"/>\n",
              "  </svg>\n",
              "    </button>\n",
              "\n",
              "  <style>\n",
              "    .colab-df-container {\n",
              "      display:flex;\n",
              "      gap: 12px;\n",
              "    }\n",
              "\n",
              "    .colab-df-convert {\n",
              "      background-color: #E8F0FE;\n",
              "      border: none;\n",
              "      border-radius: 50%;\n",
              "      cursor: pointer;\n",
              "      display: none;\n",
              "      fill: #1967D2;\n",
              "      height: 32px;\n",
              "      padding: 0 0 0 0;\n",
              "      width: 32px;\n",
              "    }\n",
              "\n",
              "    .colab-df-convert:hover {\n",
              "      background-color: #E2EBFA;\n",
              "      box-shadow: 0px 1px 2px rgba(60, 64, 67, 0.3), 0px 1px 3px 1px rgba(60, 64, 67, 0.15);\n",
              "      fill: #174EA6;\n",
              "    }\n",
              "\n",
              "    .colab-df-buttons div {\n",
              "      margin-bottom: 4px;\n",
              "    }\n",
              "\n",
              "    [theme=dark] .colab-df-convert {\n",
              "      background-color: #3B4455;\n",
              "      fill: #D2E3FC;\n",
              "    }\n",
              "\n",
              "    [theme=dark] .colab-df-convert:hover {\n",
              "      background-color: #434B5C;\n",
              "      box-shadow: 0px 1px 3px 1px rgba(0, 0, 0, 0.15);\n",
              "      filter: drop-shadow(0px 1px 2px rgba(0, 0, 0, 0.3));\n",
              "      fill: #FFFFFF;\n",
              "    }\n",
              "  </style>\n",
              "\n",
              "    <script>\n",
              "      const buttonEl =\n",
              "        document.querySelector('#df-d94d7676-3554-49d3-a5b1-57d7eee7705c button.colab-df-convert');\n",
              "      buttonEl.style.display =\n",
              "        google.colab.kernel.accessAllowed ? 'block' : 'none';\n",
              "\n",
              "      async function convertToInteractive(key) {\n",
              "        const element = document.querySelector('#df-d94d7676-3554-49d3-a5b1-57d7eee7705c');\n",
              "        const dataTable =\n",
              "          await google.colab.kernel.invokeFunction('convertToInteractive',\n",
              "                                                    [key], {});\n",
              "        if (!dataTable) return;\n",
              "\n",
              "        const docLinkHtml = 'Like what you see? Visit the ' +\n",
              "          '<a target=\"_blank\" href=https://colab.research.google.com/notebooks/data_table.ipynb>data table notebook</a>'\n",
              "          + ' to learn more about interactive tables.';\n",
              "        element.innerHTML = '';\n",
              "        dataTable['output_type'] = 'display_data';\n",
              "        await google.colab.output.renderOutput(dataTable, element);\n",
              "        const docLink = document.createElement('div');\n",
              "        docLink.innerHTML = docLinkHtml;\n",
              "        element.appendChild(docLink);\n",
              "      }\n",
              "    </script>\n",
              "  </div>\n",
              "\n",
              "\n",
              "<div id=\"df-b26ff43f-326e-42bd-8460-6b8a03e21a42\">\n",
              "  <button class=\"colab-df-quickchart\" onclick=\"quickchart('df-b26ff43f-326e-42bd-8460-6b8a03e21a42')\"\n",
              "            title=\"Suggest charts\"\n",
              "            style=\"display:none;\">\n",
              "\n",
              "<svg xmlns=\"http://www.w3.org/2000/svg\" height=\"24px\"viewBox=\"0 0 24 24\"\n",
              "     width=\"24px\">\n",
              "    <g>\n",
              "        <path d=\"M19 3H5c-1.1 0-2 .9-2 2v14c0 1.1.9 2 2 2h14c1.1 0 2-.9 2-2V5c0-1.1-.9-2-2-2zM9 17H7v-7h2v7zm4 0h-2V7h2v10zm4 0h-2v-4h2v4z\"/>\n",
              "    </g>\n",
              "</svg>\n",
              "  </button>\n",
              "\n",
              "<style>\n",
              "  .colab-df-quickchart {\n",
              "      --bg-color: #E8F0FE;\n",
              "      --fill-color: #1967D2;\n",
              "      --hover-bg-color: #E2EBFA;\n",
              "      --hover-fill-color: #174EA6;\n",
              "      --disabled-fill-color: #AAA;\n",
              "      --disabled-bg-color: #DDD;\n",
              "  }\n",
              "\n",
              "  [theme=dark] .colab-df-quickchart {\n",
              "      --bg-color: #3B4455;\n",
              "      --fill-color: #D2E3FC;\n",
              "      --hover-bg-color: #434B5C;\n",
              "      --hover-fill-color: #FFFFFF;\n",
              "      --disabled-bg-color: #3B4455;\n",
              "      --disabled-fill-color: #666;\n",
              "  }\n",
              "\n",
              "  .colab-df-quickchart {\n",
              "    background-color: var(--bg-color);\n",
              "    border: none;\n",
              "    border-radius: 50%;\n",
              "    cursor: pointer;\n",
              "    display: none;\n",
              "    fill: var(--fill-color);\n",
              "    height: 32px;\n",
              "    padding: 0;\n",
              "    width: 32px;\n",
              "  }\n",
              "\n",
              "  .colab-df-quickchart:hover {\n",
              "    background-color: var(--hover-bg-color);\n",
              "    box-shadow: 0 1px 2px rgba(60, 64, 67, 0.3), 0 1px 3px 1px rgba(60, 64, 67, 0.15);\n",
              "    fill: var(--button-hover-fill-color);\n",
              "  }\n",
              "\n",
              "  .colab-df-quickchart-complete:disabled,\n",
              "  .colab-df-quickchart-complete:disabled:hover {\n",
              "    background-color: var(--disabled-bg-color);\n",
              "    fill: var(--disabled-fill-color);\n",
              "    box-shadow: none;\n",
              "  }\n",
              "\n",
              "  .colab-df-spinner {\n",
              "    border: 2px solid var(--fill-color);\n",
              "    border-color: transparent;\n",
              "    border-bottom-color: var(--fill-color);\n",
              "    animation:\n",
              "      spin 1s steps(1) infinite;\n",
              "  }\n",
              "\n",
              "  @keyframes spin {\n",
              "    0% {\n",
              "      border-color: transparent;\n",
              "      border-bottom-color: var(--fill-color);\n",
              "      border-left-color: var(--fill-color);\n",
              "    }\n",
              "    20% {\n",
              "      border-color: transparent;\n",
              "      border-left-color: var(--fill-color);\n",
              "      border-top-color: var(--fill-color);\n",
              "    }\n",
              "    30% {\n",
              "      border-color: transparent;\n",
              "      border-left-color: var(--fill-color);\n",
              "      border-top-color: var(--fill-color);\n",
              "      border-right-color: var(--fill-color);\n",
              "    }\n",
              "    40% {\n",
              "      border-color: transparent;\n",
              "      border-right-color: var(--fill-color);\n",
              "      border-top-color: var(--fill-color);\n",
              "    }\n",
              "    60% {\n",
              "      border-color: transparent;\n",
              "      border-right-color: var(--fill-color);\n",
              "    }\n",
              "    80% {\n",
              "      border-color: transparent;\n",
              "      border-right-color: var(--fill-color);\n",
              "      border-bottom-color: var(--fill-color);\n",
              "    }\n",
              "    90% {\n",
              "      border-color: transparent;\n",
              "      border-bottom-color: var(--fill-color);\n",
              "    }\n",
              "  }\n",
              "</style>\n",
              "\n",
              "  <script>\n",
              "    async function quickchart(key) {\n",
              "      const quickchartButtonEl =\n",
              "        document.querySelector('#' + key + ' button');\n",
              "      quickchartButtonEl.disabled = true;  // To prevent multiple clicks.\n",
              "      quickchartButtonEl.classList.add('colab-df-spinner');\n",
              "      try {\n",
              "        const charts = await google.colab.kernel.invokeFunction(\n",
              "            'suggestCharts', [key], {});\n",
              "      } catch (error) {\n",
              "        console.error('Error during call to suggestCharts:', error);\n",
              "      }\n",
              "      quickchartButtonEl.classList.remove('colab-df-spinner');\n",
              "      quickchartButtonEl.classList.add('colab-df-quickchart-complete');\n",
              "    }\n",
              "    (() => {\n",
              "      let quickchartButtonEl =\n",
              "        document.querySelector('#df-b26ff43f-326e-42bd-8460-6b8a03e21a42 button');\n",
              "      quickchartButtonEl.style.display =\n",
              "        google.colab.kernel.accessAllowed ? 'block' : 'none';\n",
              "    })();\n",
              "  </script>\n",
              "</div>\n",
              "    </div>\n",
              "  </div>\n"
            ]
          },
          "metadata": {},
          "execution_count": 262
        }
      ],
      "source": [
        "data_raw"
      ]
    },
    {
      "cell_type": "code",
      "execution_count": 263,
      "metadata": {
        "id": "6R9hrluzHEXI",
        "colab": {
          "base_uri": "https://localhost:8080/"
        },
        "outputId": "ed44ec3d-fb61-44b6-999b-e85cd60c673e"
      },
      "outputs": [
        {
          "output_type": "execute_result",
          "data": {
            "text/plain": [
              "Index(['country', 'year', 'sex', 'age', 'suicides_no', 'population',\n",
              "       'suicides/100k pop', 'country-year', 'HDI for year', 'gdp_for_year ($)',\n",
              "       'gdp_per_capita ($)', 'generation'],\n",
              "      dtype='object')"
            ]
          },
          "metadata": {},
          "execution_count": 263
        }
      ],
      "source": [
        "data_raw.columns"
      ]
    },
    {
      "cell_type": "markdown",
      "metadata": {
        "id": "oTJKxYobIa_y"
      },
      "source": [
        "Подробная информация о столбцах набора данных"
      ]
    },
    {
      "cell_type": "code",
      "execution_count": 264,
      "metadata": {
        "id": "4EKO83jZvS2F",
        "colab": {
          "base_uri": "https://localhost:8080/"
        },
        "outputId": "2c1d22ef-d5ed-47cf-f324-1f995f25c98a"
      },
      "outputs": [
        {
          "output_type": "stream",
          "name": "stdout",
          "text": [
            "<class 'pandas.core.frame.DataFrame'>\n",
            "RangeIndex: 27820 entries, 0 to 27819\n",
            "Data columns (total 12 columns):\n",
            " #   Column              Non-Null Count  Dtype  \n",
            "---  ------              --------------  -----  \n",
            " 0   country             27820 non-null  object \n",
            " 1   year                27820 non-null  int64  \n",
            " 2   sex                 27820 non-null  object \n",
            " 3   age                 27820 non-null  object \n",
            " 4   suicides_no         27820 non-null  int64  \n",
            " 5   population          27820 non-null  int64  \n",
            " 6   suicides/100k pop   27820 non-null  float64\n",
            " 7   country-year        27820 non-null  object \n",
            " 8   HDI for year        8364 non-null   float64\n",
            " 9   gdp_for_year ($)    27820 non-null  int64  \n",
            " 10  gdp_per_capita ($)  27820 non-null  int64  \n",
            " 11  generation          27820 non-null  object \n",
            "dtypes: float64(2), int64(5), object(5)\n",
            "memory usage: 2.5+ MB\n"
          ]
        }
      ],
      "source": [
        "data_raw.info()"
      ]
    },
    {
      "cell_type": "code",
      "source": [
        "data_raw.info()"
      ],
      "metadata": {
        "colab": {
          "base_uri": "https://localhost:8080/"
        },
        "id": "pf2coh8wN_G7",
        "outputId": "16a54377-83fd-4740-a438-c68a17800dde"
      },
      "execution_count": 265,
      "outputs": [
        {
          "output_type": "stream",
          "name": "stdout",
          "text": [
            "<class 'pandas.core.frame.DataFrame'>\n",
            "RangeIndex: 27820 entries, 0 to 27819\n",
            "Data columns (total 12 columns):\n",
            " #   Column              Non-Null Count  Dtype  \n",
            "---  ------              --------------  -----  \n",
            " 0   country             27820 non-null  object \n",
            " 1   year                27820 non-null  int64  \n",
            " 2   sex                 27820 non-null  object \n",
            " 3   age                 27820 non-null  object \n",
            " 4   suicides_no         27820 non-null  int64  \n",
            " 5   population          27820 non-null  int64  \n",
            " 6   suicides/100k pop   27820 non-null  float64\n",
            " 7   country-year        27820 non-null  object \n",
            " 8   HDI for year        8364 non-null   float64\n",
            " 9   gdp_for_year ($)    27820 non-null  int64  \n",
            " 10  gdp_per_capita ($)  27820 non-null  int64  \n",
            " 11  generation          27820 non-null  object \n",
            "dtypes: float64(2), int64(5), object(5)\n",
            "memory usage: 2.5+ MB\n"
          ]
        }
      ]
    },
    {
      "cell_type": "markdown",
      "metadata": {
        "id": "iQKLZJxMIjwB"
      },
      "source": [
        "По полученному описанию можно определить наличие пропущенных значений, а так же провести типизацию признаков:\n",
        "* `sex`, `age` - являются категориальными, номинальными признаками.\n",
        "* `country` - текстовой признак\n",
        "* Остальные будут являться количественными (числовыми) признаками.\n",
        "\n",
        "Однако все категориальные признаки являются по типу `'object'`, исправим это., заменив тип на специальный, предназначенный для хранения категориальных значений: `'category'`"
      ]
    },
    {
      "cell_type": "code",
      "execution_count": 266,
      "metadata": {
        "id": "lOHBV4knMyKL"
      },
      "outputs": [],
      "source": [
        "data_raw['sex'] = data_raw['sex'].astype('category')\n",
        "data_raw['age'] = data_raw['age'].astype('category')\n",
        "data_raw['generation'] = data_raw['generation'].astype('category')\n",
        "data_raw['country'] = data_raw['country'].astype('category')"
      ]
    },
    {
      "cell_type": "code",
      "execution_count": 267,
      "metadata": {
        "id": "TRFC3-7PMyKL",
        "colab": {
          "base_uri": "https://localhost:8080/"
        },
        "outputId": "4b6c9b8d-a882-44d6-a003-31494dba300d"
      },
      "outputs": [
        {
          "output_type": "execute_result",
          "data": {
            "text/plain": [
              "CategoricalDtype(categories=['female', 'male'], ordered=False)"
            ]
          },
          "metadata": {},
          "execution_count": 267
        }
      ],
      "source": [
        "data_raw['sex'].dtype"
      ]
    },
    {
      "cell_type": "code",
      "execution_count": 268,
      "metadata": {
        "id": "ABAvZBdZuABw",
        "colab": {
          "base_uri": "https://localhost:8080/"
        },
        "outputId": "e301f76e-5be6-4263-a03a-2e6cfddb1397"
      },
      "outputs": [
        {
          "output_type": "execute_result",
          "data": {
            "text/plain": [
              "CategoricalDtype(categories=['05-14 years', '15-24 years', '25-34 years', '35-54 years',\n",
              "                  '55-74 years', '75+ years'],\n",
              ", ordered=False)"
            ]
          },
          "metadata": {},
          "execution_count": 268
        }
      ],
      "source": [
        "data_raw['age'].dtype"
      ]
    },
    {
      "cell_type": "code",
      "execution_count": 269,
      "metadata": {
        "id": "DajOUzkeuAtj",
        "colab": {
          "base_uri": "https://localhost:8080/"
        },
        "outputId": "1f79f93b-bde6-4d33-b000-bca7f05101ff"
      },
      "outputs": [
        {
          "output_type": "execute_result",
          "data": {
            "text/plain": [
              "CategoricalDtype(categories=['1.G.I. Generation', '2.Silent', '3.Boomers',\n",
              "                  '4.Generation X', '5.Millenials', '6.Generation Z'],\n",
              ", ordered=False)"
            ]
          },
          "metadata": {},
          "execution_count": 269
        }
      ],
      "source": [
        "data_raw['generation'].dtype"
      ]
    },
    {
      "cell_type": "code",
      "source": [
        "data_raw['country'].dtype"
      ],
      "metadata": {
        "colab": {
          "base_uri": "https://localhost:8080/"
        },
        "id": "IDV5lCQxPcuq",
        "outputId": "46b198f8-b90a-41c2-eb36-df69d5a35a54"
      },
      "execution_count": 270,
      "outputs": [
        {
          "output_type": "execute_result",
          "data": {
            "text/plain": [
              "CategoricalDtype(categories=['Albania', 'Antigua and Barbuda', 'Argentina', 'Armenia',\n",
              "                  'Aruba', 'Australia', 'Austria', 'Azerbaijan', 'Bahamas',\n",
              "                  'Bahrain',\n",
              "                  ...\n",
              "                  'Thailand', 'Trinidad and Tobago', 'Turkey', 'Turkmenistan',\n",
              "                  'Ukraine', 'United Arab Emirates', 'United Kingdom',\n",
              "                  'United States', 'Uruguay', 'Uzbekistan'],\n",
              ", ordered=False)"
            ]
          },
          "metadata": {},
          "execution_count": 270
        }
      ]
    },
    {
      "cell_type": "markdown",
      "metadata": {
        "id": "9GEahp_O8l9s"
      },
      "source": [
        "##3. Визуализация данных, вычисление основных характеристик\n"
      ]
    },
    {
      "cell_type": "markdown",
      "metadata": {
        "id": "TVZQin6HsW5E"
      },
      "source": [
        "Выведем описательную статистику по нашему датасету: математическое описание для каждого признака\n",
        "Сначала рассмотрим категориальные признаки"
      ]
    },
    {
      "cell_type": "code",
      "execution_count": 271,
      "metadata": {
        "id": "W7OuTaYZsW5F",
        "colab": {
          "base_uri": "https://localhost:8080/",
          "height": 0
        },
        "outputId": "1d622fce-6fcb-4fe7-8820-e6f60896a98e"
      },
      "outputs": [
        {
          "output_type": "execute_result",
          "data": {
            "text/plain": [
              "          country     sex          age      generation\n",
              "count       27820   27820        27820           27820\n",
              "unique        101       2            6               6\n",
              "top     Mauritius  female  15-24 years  4.Generation X\n",
              "freq          382   13910         4642            6408"
            ],
            "text/html": [
              "\n",
              "  <div id=\"df-441f0c15-c993-489d-b822-78fa3c1b972d\" class=\"colab-df-container\">\n",
              "    <div>\n",
              "<style scoped>\n",
              "    .dataframe tbody tr th:only-of-type {\n",
              "        vertical-align: middle;\n",
              "    }\n",
              "\n",
              "    .dataframe tbody tr th {\n",
              "        vertical-align: top;\n",
              "    }\n",
              "\n",
              "    .dataframe thead th {\n",
              "        text-align: right;\n",
              "    }\n",
              "</style>\n",
              "<table border=\"1\" class=\"dataframe\">\n",
              "  <thead>\n",
              "    <tr style=\"text-align: right;\">\n",
              "      <th></th>\n",
              "      <th>country</th>\n",
              "      <th>sex</th>\n",
              "      <th>age</th>\n",
              "      <th>generation</th>\n",
              "    </tr>\n",
              "  </thead>\n",
              "  <tbody>\n",
              "    <tr>\n",
              "      <th>count</th>\n",
              "      <td>27820</td>\n",
              "      <td>27820</td>\n",
              "      <td>27820</td>\n",
              "      <td>27820</td>\n",
              "    </tr>\n",
              "    <tr>\n",
              "      <th>unique</th>\n",
              "      <td>101</td>\n",
              "      <td>2</td>\n",
              "      <td>6</td>\n",
              "      <td>6</td>\n",
              "    </tr>\n",
              "    <tr>\n",
              "      <th>top</th>\n",
              "      <td>Mauritius</td>\n",
              "      <td>female</td>\n",
              "      <td>15-24 years</td>\n",
              "      <td>4.Generation X</td>\n",
              "    </tr>\n",
              "    <tr>\n",
              "      <th>freq</th>\n",
              "      <td>382</td>\n",
              "      <td>13910</td>\n",
              "      <td>4642</td>\n",
              "      <td>6408</td>\n",
              "    </tr>\n",
              "  </tbody>\n",
              "</table>\n",
              "</div>\n",
              "    <div class=\"colab-df-buttons\">\n",
              "\n",
              "  <div class=\"colab-df-container\">\n",
              "    <button class=\"colab-df-convert\" onclick=\"convertToInteractive('df-441f0c15-c993-489d-b822-78fa3c1b972d')\"\n",
              "            title=\"Convert this dataframe to an interactive table.\"\n",
              "            style=\"display:none;\">\n",
              "\n",
              "  <svg xmlns=\"http://www.w3.org/2000/svg\" height=\"24px\" viewBox=\"0 -960 960 960\">\n",
              "    <path d=\"M120-120v-720h720v720H120Zm60-500h600v-160H180v160Zm220 220h160v-160H400v160Zm0 220h160v-160H400v160ZM180-400h160v-160H180v160Zm440 0h160v-160H620v160ZM180-180h160v-160H180v160Zm440 0h160v-160H620v160Z\"/>\n",
              "  </svg>\n",
              "    </button>\n",
              "\n",
              "  <style>\n",
              "    .colab-df-container {\n",
              "      display:flex;\n",
              "      gap: 12px;\n",
              "    }\n",
              "\n",
              "    .colab-df-convert {\n",
              "      background-color: #E8F0FE;\n",
              "      border: none;\n",
              "      border-radius: 50%;\n",
              "      cursor: pointer;\n",
              "      display: none;\n",
              "      fill: #1967D2;\n",
              "      height: 32px;\n",
              "      padding: 0 0 0 0;\n",
              "      width: 32px;\n",
              "    }\n",
              "\n",
              "    .colab-df-convert:hover {\n",
              "      background-color: #E2EBFA;\n",
              "      box-shadow: 0px 1px 2px rgba(60, 64, 67, 0.3), 0px 1px 3px 1px rgba(60, 64, 67, 0.15);\n",
              "      fill: #174EA6;\n",
              "    }\n",
              "\n",
              "    .colab-df-buttons div {\n",
              "      margin-bottom: 4px;\n",
              "    }\n",
              "\n",
              "    [theme=dark] .colab-df-convert {\n",
              "      background-color: #3B4455;\n",
              "      fill: #D2E3FC;\n",
              "    }\n",
              "\n",
              "    [theme=dark] .colab-df-convert:hover {\n",
              "      background-color: #434B5C;\n",
              "      box-shadow: 0px 1px 3px 1px rgba(0, 0, 0, 0.15);\n",
              "      filter: drop-shadow(0px 1px 2px rgba(0, 0, 0, 0.3));\n",
              "      fill: #FFFFFF;\n",
              "    }\n",
              "  </style>\n",
              "\n",
              "    <script>\n",
              "      const buttonEl =\n",
              "        document.querySelector('#df-441f0c15-c993-489d-b822-78fa3c1b972d button.colab-df-convert');\n",
              "      buttonEl.style.display =\n",
              "        google.colab.kernel.accessAllowed ? 'block' : 'none';\n",
              "\n",
              "      async function convertToInteractive(key) {\n",
              "        const element = document.querySelector('#df-441f0c15-c993-489d-b822-78fa3c1b972d');\n",
              "        const dataTable =\n",
              "          await google.colab.kernel.invokeFunction('convertToInteractive',\n",
              "                                                    [key], {});\n",
              "        if (!dataTable) return;\n",
              "\n",
              "        const docLinkHtml = 'Like what you see? Visit the ' +\n",
              "          '<a target=\"_blank\" href=https://colab.research.google.com/notebooks/data_table.ipynb>data table notebook</a>'\n",
              "          + ' to learn more about interactive tables.';\n",
              "        element.innerHTML = '';\n",
              "        dataTable['output_type'] = 'display_data';\n",
              "        await google.colab.output.renderOutput(dataTable, element);\n",
              "        const docLink = document.createElement('div');\n",
              "        docLink.innerHTML = docLinkHtml;\n",
              "        element.appendChild(docLink);\n",
              "      }\n",
              "    </script>\n",
              "  </div>\n",
              "\n",
              "\n",
              "<div id=\"df-00a951e2-e5c0-4309-a596-5faeef97ac7b\">\n",
              "  <button class=\"colab-df-quickchart\" onclick=\"quickchart('df-00a951e2-e5c0-4309-a596-5faeef97ac7b')\"\n",
              "            title=\"Suggest charts\"\n",
              "            style=\"display:none;\">\n",
              "\n",
              "<svg xmlns=\"http://www.w3.org/2000/svg\" height=\"24px\"viewBox=\"0 0 24 24\"\n",
              "     width=\"24px\">\n",
              "    <g>\n",
              "        <path d=\"M19 3H5c-1.1 0-2 .9-2 2v14c0 1.1.9 2 2 2h14c1.1 0 2-.9 2-2V5c0-1.1-.9-2-2-2zM9 17H7v-7h2v7zm4 0h-2V7h2v10zm4 0h-2v-4h2v4z\"/>\n",
              "    </g>\n",
              "</svg>\n",
              "  </button>\n",
              "\n",
              "<style>\n",
              "  .colab-df-quickchart {\n",
              "      --bg-color: #E8F0FE;\n",
              "      --fill-color: #1967D2;\n",
              "      --hover-bg-color: #E2EBFA;\n",
              "      --hover-fill-color: #174EA6;\n",
              "      --disabled-fill-color: #AAA;\n",
              "      --disabled-bg-color: #DDD;\n",
              "  }\n",
              "\n",
              "  [theme=dark] .colab-df-quickchart {\n",
              "      --bg-color: #3B4455;\n",
              "      --fill-color: #D2E3FC;\n",
              "      --hover-bg-color: #434B5C;\n",
              "      --hover-fill-color: #FFFFFF;\n",
              "      --disabled-bg-color: #3B4455;\n",
              "      --disabled-fill-color: #666;\n",
              "  }\n",
              "\n",
              "  .colab-df-quickchart {\n",
              "    background-color: var(--bg-color);\n",
              "    border: none;\n",
              "    border-radius: 50%;\n",
              "    cursor: pointer;\n",
              "    display: none;\n",
              "    fill: var(--fill-color);\n",
              "    height: 32px;\n",
              "    padding: 0;\n",
              "    width: 32px;\n",
              "  }\n",
              "\n",
              "  .colab-df-quickchart:hover {\n",
              "    background-color: var(--hover-bg-color);\n",
              "    box-shadow: 0 1px 2px rgba(60, 64, 67, 0.3), 0 1px 3px 1px rgba(60, 64, 67, 0.15);\n",
              "    fill: var(--button-hover-fill-color);\n",
              "  }\n",
              "\n",
              "  .colab-df-quickchart-complete:disabled,\n",
              "  .colab-df-quickchart-complete:disabled:hover {\n",
              "    background-color: var(--disabled-bg-color);\n",
              "    fill: var(--disabled-fill-color);\n",
              "    box-shadow: none;\n",
              "  }\n",
              "\n",
              "  .colab-df-spinner {\n",
              "    border: 2px solid var(--fill-color);\n",
              "    border-color: transparent;\n",
              "    border-bottom-color: var(--fill-color);\n",
              "    animation:\n",
              "      spin 1s steps(1) infinite;\n",
              "  }\n",
              "\n",
              "  @keyframes spin {\n",
              "    0% {\n",
              "      border-color: transparent;\n",
              "      border-bottom-color: var(--fill-color);\n",
              "      border-left-color: var(--fill-color);\n",
              "    }\n",
              "    20% {\n",
              "      border-color: transparent;\n",
              "      border-left-color: var(--fill-color);\n",
              "      border-top-color: var(--fill-color);\n",
              "    }\n",
              "    30% {\n",
              "      border-color: transparent;\n",
              "      border-left-color: var(--fill-color);\n",
              "      border-top-color: var(--fill-color);\n",
              "      border-right-color: var(--fill-color);\n",
              "    }\n",
              "    40% {\n",
              "      border-color: transparent;\n",
              "      border-right-color: var(--fill-color);\n",
              "      border-top-color: var(--fill-color);\n",
              "    }\n",
              "    60% {\n",
              "      border-color: transparent;\n",
              "      border-right-color: var(--fill-color);\n",
              "    }\n",
              "    80% {\n",
              "      border-color: transparent;\n",
              "      border-right-color: var(--fill-color);\n",
              "      border-bottom-color: var(--fill-color);\n",
              "    }\n",
              "    90% {\n",
              "      border-color: transparent;\n",
              "      border-bottom-color: var(--fill-color);\n",
              "    }\n",
              "  }\n",
              "</style>\n",
              "\n",
              "  <script>\n",
              "    async function quickchart(key) {\n",
              "      const quickchartButtonEl =\n",
              "        document.querySelector('#' + key + ' button');\n",
              "      quickchartButtonEl.disabled = true;  // To prevent multiple clicks.\n",
              "      quickchartButtonEl.classList.add('colab-df-spinner');\n",
              "      try {\n",
              "        const charts = await google.colab.kernel.invokeFunction(\n",
              "            'suggestCharts', [key], {});\n",
              "      } catch (error) {\n",
              "        console.error('Error during call to suggestCharts:', error);\n",
              "      }\n",
              "      quickchartButtonEl.classList.remove('colab-df-spinner');\n",
              "      quickchartButtonEl.classList.add('colab-df-quickchart-complete');\n",
              "    }\n",
              "    (() => {\n",
              "      let quickchartButtonEl =\n",
              "        document.querySelector('#df-00a951e2-e5c0-4309-a596-5faeef97ac7b button');\n",
              "      quickchartButtonEl.style.display =\n",
              "        google.colab.kernel.accessAllowed ? 'block' : 'none';\n",
              "    })();\n",
              "  </script>\n",
              "</div>\n",
              "    </div>\n",
              "  </div>\n"
            ]
          },
          "metadata": {},
          "execution_count": 271
        }
      ],
      "source": [
        "data_raw.describe(include=['category'])"
      ]
    },
    {
      "cell_type": "markdown",
      "metadata": {
        "id": "QZcOKhf2V4Ik"
      },
      "source": [
        "* count - количество значений для каждого признака (значения признака Gender отличаются от всех остальных, так как в нем есть пропущенные значения)\n",
        "* unique - количество уникальных значений\n",
        "* top - значения, встречающиеся чаще всего\n",
        "* freq - частота значений top"
      ]
    },
    {
      "cell_type": "markdown",
      "metadata": {
        "id": "zPIpwPvpiUSk"
      },
      "source": [
        "Теперь посмотрим на данные о количественных признаках"
      ]
    },
    {
      "cell_type": "code",
      "execution_count": 272,
      "metadata": {
        "id": "tcogI-gosW5F",
        "colab": {
          "base_uri": "https://localhost:8080/",
          "height": 0
        },
        "outputId": "6536f942-b69b-4382-d6cc-e571715e2813"
      },
      "outputs": [
        {
          "output_type": "execute_result",
          "data": {
            "text/plain": [
              "               year   suicides_no    population  suicides/100k pop  \\\n",
              "count  27820.000000  27820.000000  2.782000e+04       27820.000000   \n",
              "mean    2001.258375    242.574407  1.844794e+06          12.816097   \n",
              "std        8.469055    902.047917  3.911779e+06          18.961511   \n",
              "min     1985.000000      0.000000  2.780000e+02           0.000000   \n",
              "25%     1995.000000      3.000000  9.749850e+04           0.920000   \n",
              "50%     2002.000000     25.000000  4.301500e+05           5.990000   \n",
              "75%     2008.000000    131.000000  1.486143e+06          16.620000   \n",
              "max     2016.000000  22338.000000  4.380521e+07         224.970000   \n",
              "\n",
              "       HDI for year  gdp_for_year ($)  gdp_per_capita ($)  \n",
              "count   8364.000000      2.782000e+04        27820.000000  \n",
              "mean       0.776601      4.455810e+11        16866.464414  \n",
              "std        0.093367      1.453610e+12        18887.576472  \n",
              "min        0.483000      4.691962e+07          251.000000  \n",
              "25%        0.713000      8.985353e+09         3447.000000  \n",
              "50%        0.779000      4.811469e+10         9372.000000  \n",
              "75%        0.855000      2.602024e+11        24874.000000  \n",
              "max        0.944000      1.812071e+13       126352.000000  "
            ],
            "text/html": [
              "\n",
              "  <div id=\"df-b7bb36ea-7207-44bc-b7a0-63f1952f4d33\" class=\"colab-df-container\">\n",
              "    <div>\n",
              "<style scoped>\n",
              "    .dataframe tbody tr th:only-of-type {\n",
              "        vertical-align: middle;\n",
              "    }\n",
              "\n",
              "    .dataframe tbody tr th {\n",
              "        vertical-align: top;\n",
              "    }\n",
              "\n",
              "    .dataframe thead th {\n",
              "        text-align: right;\n",
              "    }\n",
              "</style>\n",
              "<table border=\"1\" class=\"dataframe\">\n",
              "  <thead>\n",
              "    <tr style=\"text-align: right;\">\n",
              "      <th></th>\n",
              "      <th>year</th>\n",
              "      <th>suicides_no</th>\n",
              "      <th>population</th>\n",
              "      <th>suicides/100k pop</th>\n",
              "      <th>HDI for year</th>\n",
              "      <th>gdp_for_year ($)</th>\n",
              "      <th>gdp_per_capita ($)</th>\n",
              "    </tr>\n",
              "  </thead>\n",
              "  <tbody>\n",
              "    <tr>\n",
              "      <th>count</th>\n",
              "      <td>27820.000000</td>\n",
              "      <td>27820.000000</td>\n",
              "      <td>2.782000e+04</td>\n",
              "      <td>27820.000000</td>\n",
              "      <td>8364.000000</td>\n",
              "      <td>2.782000e+04</td>\n",
              "      <td>27820.000000</td>\n",
              "    </tr>\n",
              "    <tr>\n",
              "      <th>mean</th>\n",
              "      <td>2001.258375</td>\n",
              "      <td>242.574407</td>\n",
              "      <td>1.844794e+06</td>\n",
              "      <td>12.816097</td>\n",
              "      <td>0.776601</td>\n",
              "      <td>4.455810e+11</td>\n",
              "      <td>16866.464414</td>\n",
              "    </tr>\n",
              "    <tr>\n",
              "      <th>std</th>\n",
              "      <td>8.469055</td>\n",
              "      <td>902.047917</td>\n",
              "      <td>3.911779e+06</td>\n",
              "      <td>18.961511</td>\n",
              "      <td>0.093367</td>\n",
              "      <td>1.453610e+12</td>\n",
              "      <td>18887.576472</td>\n",
              "    </tr>\n",
              "    <tr>\n",
              "      <th>min</th>\n",
              "      <td>1985.000000</td>\n",
              "      <td>0.000000</td>\n",
              "      <td>2.780000e+02</td>\n",
              "      <td>0.000000</td>\n",
              "      <td>0.483000</td>\n",
              "      <td>4.691962e+07</td>\n",
              "      <td>251.000000</td>\n",
              "    </tr>\n",
              "    <tr>\n",
              "      <th>25%</th>\n",
              "      <td>1995.000000</td>\n",
              "      <td>3.000000</td>\n",
              "      <td>9.749850e+04</td>\n",
              "      <td>0.920000</td>\n",
              "      <td>0.713000</td>\n",
              "      <td>8.985353e+09</td>\n",
              "      <td>3447.000000</td>\n",
              "    </tr>\n",
              "    <tr>\n",
              "      <th>50%</th>\n",
              "      <td>2002.000000</td>\n",
              "      <td>25.000000</td>\n",
              "      <td>4.301500e+05</td>\n",
              "      <td>5.990000</td>\n",
              "      <td>0.779000</td>\n",
              "      <td>4.811469e+10</td>\n",
              "      <td>9372.000000</td>\n",
              "    </tr>\n",
              "    <tr>\n",
              "      <th>75%</th>\n",
              "      <td>2008.000000</td>\n",
              "      <td>131.000000</td>\n",
              "      <td>1.486143e+06</td>\n",
              "      <td>16.620000</td>\n",
              "      <td>0.855000</td>\n",
              "      <td>2.602024e+11</td>\n",
              "      <td>24874.000000</td>\n",
              "    </tr>\n",
              "    <tr>\n",
              "      <th>max</th>\n",
              "      <td>2016.000000</td>\n",
              "      <td>22338.000000</td>\n",
              "      <td>4.380521e+07</td>\n",
              "      <td>224.970000</td>\n",
              "      <td>0.944000</td>\n",
              "      <td>1.812071e+13</td>\n",
              "      <td>126352.000000</td>\n",
              "    </tr>\n",
              "  </tbody>\n",
              "</table>\n",
              "</div>\n",
              "    <div class=\"colab-df-buttons\">\n",
              "\n",
              "  <div class=\"colab-df-container\">\n",
              "    <button class=\"colab-df-convert\" onclick=\"convertToInteractive('df-b7bb36ea-7207-44bc-b7a0-63f1952f4d33')\"\n",
              "            title=\"Convert this dataframe to an interactive table.\"\n",
              "            style=\"display:none;\">\n",
              "\n",
              "  <svg xmlns=\"http://www.w3.org/2000/svg\" height=\"24px\" viewBox=\"0 -960 960 960\">\n",
              "    <path d=\"M120-120v-720h720v720H120Zm60-500h600v-160H180v160Zm220 220h160v-160H400v160Zm0 220h160v-160H400v160ZM180-400h160v-160H180v160Zm440 0h160v-160H620v160ZM180-180h160v-160H180v160Zm440 0h160v-160H620v160Z\"/>\n",
              "  </svg>\n",
              "    </button>\n",
              "\n",
              "  <style>\n",
              "    .colab-df-container {\n",
              "      display:flex;\n",
              "      gap: 12px;\n",
              "    }\n",
              "\n",
              "    .colab-df-convert {\n",
              "      background-color: #E8F0FE;\n",
              "      border: none;\n",
              "      border-radius: 50%;\n",
              "      cursor: pointer;\n",
              "      display: none;\n",
              "      fill: #1967D2;\n",
              "      height: 32px;\n",
              "      padding: 0 0 0 0;\n",
              "      width: 32px;\n",
              "    }\n",
              "\n",
              "    .colab-df-convert:hover {\n",
              "      background-color: #E2EBFA;\n",
              "      box-shadow: 0px 1px 2px rgba(60, 64, 67, 0.3), 0px 1px 3px 1px rgba(60, 64, 67, 0.15);\n",
              "      fill: #174EA6;\n",
              "    }\n",
              "\n",
              "    .colab-df-buttons div {\n",
              "      margin-bottom: 4px;\n",
              "    }\n",
              "\n",
              "    [theme=dark] .colab-df-convert {\n",
              "      background-color: #3B4455;\n",
              "      fill: #D2E3FC;\n",
              "    }\n",
              "\n",
              "    [theme=dark] .colab-df-convert:hover {\n",
              "      background-color: #434B5C;\n",
              "      box-shadow: 0px 1px 3px 1px rgba(0, 0, 0, 0.15);\n",
              "      filter: drop-shadow(0px 1px 2px rgba(0, 0, 0, 0.3));\n",
              "      fill: #FFFFFF;\n",
              "    }\n",
              "  </style>\n",
              "\n",
              "    <script>\n",
              "      const buttonEl =\n",
              "        document.querySelector('#df-b7bb36ea-7207-44bc-b7a0-63f1952f4d33 button.colab-df-convert');\n",
              "      buttonEl.style.display =\n",
              "        google.colab.kernel.accessAllowed ? 'block' : 'none';\n",
              "\n",
              "      async function convertToInteractive(key) {\n",
              "        const element = document.querySelector('#df-b7bb36ea-7207-44bc-b7a0-63f1952f4d33');\n",
              "        const dataTable =\n",
              "          await google.colab.kernel.invokeFunction('convertToInteractive',\n",
              "                                                    [key], {});\n",
              "        if (!dataTable) return;\n",
              "\n",
              "        const docLinkHtml = 'Like what you see? Visit the ' +\n",
              "          '<a target=\"_blank\" href=https://colab.research.google.com/notebooks/data_table.ipynb>data table notebook</a>'\n",
              "          + ' to learn more about interactive tables.';\n",
              "        element.innerHTML = '';\n",
              "        dataTable['output_type'] = 'display_data';\n",
              "        await google.colab.output.renderOutput(dataTable, element);\n",
              "        const docLink = document.createElement('div');\n",
              "        docLink.innerHTML = docLinkHtml;\n",
              "        element.appendChild(docLink);\n",
              "      }\n",
              "    </script>\n",
              "  </div>\n",
              "\n",
              "\n",
              "<div id=\"df-0aa93e03-3d4c-4ed7-b8fb-7c3b2a472a2c\">\n",
              "  <button class=\"colab-df-quickchart\" onclick=\"quickchart('df-0aa93e03-3d4c-4ed7-b8fb-7c3b2a472a2c')\"\n",
              "            title=\"Suggest charts\"\n",
              "            style=\"display:none;\">\n",
              "\n",
              "<svg xmlns=\"http://www.w3.org/2000/svg\" height=\"24px\"viewBox=\"0 0 24 24\"\n",
              "     width=\"24px\">\n",
              "    <g>\n",
              "        <path d=\"M19 3H5c-1.1 0-2 .9-2 2v14c0 1.1.9 2 2 2h14c1.1 0 2-.9 2-2V5c0-1.1-.9-2-2-2zM9 17H7v-7h2v7zm4 0h-2V7h2v10zm4 0h-2v-4h2v4z\"/>\n",
              "    </g>\n",
              "</svg>\n",
              "  </button>\n",
              "\n",
              "<style>\n",
              "  .colab-df-quickchart {\n",
              "      --bg-color: #E8F0FE;\n",
              "      --fill-color: #1967D2;\n",
              "      --hover-bg-color: #E2EBFA;\n",
              "      --hover-fill-color: #174EA6;\n",
              "      --disabled-fill-color: #AAA;\n",
              "      --disabled-bg-color: #DDD;\n",
              "  }\n",
              "\n",
              "  [theme=dark] .colab-df-quickchart {\n",
              "      --bg-color: #3B4455;\n",
              "      --fill-color: #D2E3FC;\n",
              "      --hover-bg-color: #434B5C;\n",
              "      --hover-fill-color: #FFFFFF;\n",
              "      --disabled-bg-color: #3B4455;\n",
              "      --disabled-fill-color: #666;\n",
              "  }\n",
              "\n",
              "  .colab-df-quickchart {\n",
              "    background-color: var(--bg-color);\n",
              "    border: none;\n",
              "    border-radius: 50%;\n",
              "    cursor: pointer;\n",
              "    display: none;\n",
              "    fill: var(--fill-color);\n",
              "    height: 32px;\n",
              "    padding: 0;\n",
              "    width: 32px;\n",
              "  }\n",
              "\n",
              "  .colab-df-quickchart:hover {\n",
              "    background-color: var(--hover-bg-color);\n",
              "    box-shadow: 0 1px 2px rgba(60, 64, 67, 0.3), 0 1px 3px 1px rgba(60, 64, 67, 0.15);\n",
              "    fill: var(--button-hover-fill-color);\n",
              "  }\n",
              "\n",
              "  .colab-df-quickchart-complete:disabled,\n",
              "  .colab-df-quickchart-complete:disabled:hover {\n",
              "    background-color: var(--disabled-bg-color);\n",
              "    fill: var(--disabled-fill-color);\n",
              "    box-shadow: none;\n",
              "  }\n",
              "\n",
              "  .colab-df-spinner {\n",
              "    border: 2px solid var(--fill-color);\n",
              "    border-color: transparent;\n",
              "    border-bottom-color: var(--fill-color);\n",
              "    animation:\n",
              "      spin 1s steps(1) infinite;\n",
              "  }\n",
              "\n",
              "  @keyframes spin {\n",
              "    0% {\n",
              "      border-color: transparent;\n",
              "      border-bottom-color: var(--fill-color);\n",
              "      border-left-color: var(--fill-color);\n",
              "    }\n",
              "    20% {\n",
              "      border-color: transparent;\n",
              "      border-left-color: var(--fill-color);\n",
              "      border-top-color: var(--fill-color);\n",
              "    }\n",
              "    30% {\n",
              "      border-color: transparent;\n",
              "      border-left-color: var(--fill-color);\n",
              "      border-top-color: var(--fill-color);\n",
              "      border-right-color: var(--fill-color);\n",
              "    }\n",
              "    40% {\n",
              "      border-color: transparent;\n",
              "      border-right-color: var(--fill-color);\n",
              "      border-top-color: var(--fill-color);\n",
              "    }\n",
              "    60% {\n",
              "      border-color: transparent;\n",
              "      border-right-color: var(--fill-color);\n",
              "    }\n",
              "    80% {\n",
              "      border-color: transparent;\n",
              "      border-right-color: var(--fill-color);\n",
              "      border-bottom-color: var(--fill-color);\n",
              "    }\n",
              "    90% {\n",
              "      border-color: transparent;\n",
              "      border-bottom-color: var(--fill-color);\n",
              "    }\n",
              "  }\n",
              "</style>\n",
              "\n",
              "  <script>\n",
              "    async function quickchart(key) {\n",
              "      const quickchartButtonEl =\n",
              "        document.querySelector('#' + key + ' button');\n",
              "      quickchartButtonEl.disabled = true;  // To prevent multiple clicks.\n",
              "      quickchartButtonEl.classList.add('colab-df-spinner');\n",
              "      try {\n",
              "        const charts = await google.colab.kernel.invokeFunction(\n",
              "            'suggestCharts', [key], {});\n",
              "      } catch (error) {\n",
              "        console.error('Error during call to suggestCharts:', error);\n",
              "      }\n",
              "      quickchartButtonEl.classList.remove('colab-df-spinner');\n",
              "      quickchartButtonEl.classList.add('colab-df-quickchart-complete');\n",
              "    }\n",
              "    (() => {\n",
              "      let quickchartButtonEl =\n",
              "        document.querySelector('#df-0aa93e03-3d4c-4ed7-b8fb-7c3b2a472a2c button');\n",
              "      quickchartButtonEl.style.display =\n",
              "        google.colab.kernel.accessAllowed ? 'block' : 'none';\n",
              "    })();\n",
              "  </script>\n",
              "</div>\n",
              "    </div>\n",
              "  </div>\n"
            ]
          },
          "metadata": {},
          "execution_count": 272
        }
      ],
      "source": [
        "data_raw.describe()"
      ]
    },
    {
      "cell_type": "markdown",
      "metadata": {
        "id": "1PI7tfPcUUMS"
      },
      "source": [
        "* count — количество значений для каждого признака\n",
        "* mean — среднее значение\n",
        "* std — стандартное отклонение, значение которого показывает, на сколько в среднем отклоняются варианты от среднего значения\n",
        "* min — минимальное значение\n",
        "* 25% — значения, которые объект не превышает с вероятностью 25%\n",
        "* 50% — медиана, то есть значения, которые объект не превышает с вероятностью 25%\n",
        "* 75% — значения, которые объект не превышает с вероятностью 75%\n",
        "* max — максимальное значение"
      ]
    },
    {
      "cell_type": "markdown",
      "metadata": {
        "id": "oM5B634wiq3o"
      },
      "source": [
        "Внимательно изучив таблицу можно решить, в каких признaках желательно обработать выбросы.\n",
        "Считаем необходимым рассмотреть такие признаки, как:\n",
        "population,\tgdp_for_year,\tgdp_per_capita\n",
        "так как их средние и медианные значения ушли далеко от половины максимального значения."
      ]
    },
    {
      "cell_type": "code",
      "execution_count": 273,
      "metadata": {
        "id": "1Np3X1x1ZiTe",
        "colab": {
          "base_uri": "https://localhost:8080/",
          "height": 0
        },
        "outputId": "1dc9794d-ec2c-4093-c771-3034daf78bb4"
      },
      "outputs": [
        {
          "output_type": "execute_result",
          "data": {
            "text/plain": [
              "<seaborn.axisgrid.PairGrid at 0x7f4993e6e4d0>"
            ]
          },
          "metadata": {},
          "execution_count": 273
        },
        {
          "output_type": "display_data",
          "data": {
            "text/plain": [
              "<Figure size 341.111x250 with 2 Axes>"
            ],
            "image/png": "[encoded data removed]"
          },
          "metadata": {}
        }
      ],
      "source": [
        "sns.pairplot(data_raw[[\"year\",\"suicides_no\"]], hue=\"suicides_no\")"
      ]
    },
    {
      "cell_type": "code",
      "execution_count": 274,
      "metadata": {
        "id": "nvq6MyH-alMB",
        "colab": {
          "base_uri": "https://localhost:8080/",
          "height": 0
        },
        "outputId": "0af3f1c0-5def-4591-fc88-b3cbf8869557"
      },
      "outputs": [
        {
          "output_type": "execute_result",
          "data": {
            "text/plain": [
              "<Axes: ylabel='year'>"
            ]
          },
          "metadata": {},
          "execution_count": 274
        },
        {
          "output_type": "display_data",
          "data": {
            "text/plain": [
              "<Figure size 640x480 with 1 Axes>"
            ],
            "image/png": "[encoded data removed]"
          },
          "metadata": {}
        }
      ],
      "source": [
        "sns.violinplot(y=\"year\", data=data_raw)\n"
      ]
    },
    {
      "cell_type": "code",
      "execution_count": 275,
      "metadata": {
        "id": "kfVQf891jyxL",
        "colab": {
          "base_uri": "https://localhost:8080/",
          "height": 0
        },
        "outputId": "759a1268-17ec-4bb3-e512-da089b87dfed"
      },
      "outputs": [
        {
          "output_type": "execute_result",
          "data": {
            "text/plain": [
              "<seaborn.axisgrid.PairGrid at 0x7f4993e6ea70>"
            ]
          },
          "metadata": {},
          "execution_count": 275
        },
        {
          "output_type": "display_data",
          "data": {
            "text/plain": [
              "<Figure size 341.111x250 with 2 Axes>"
            ],
            "image/png": "[encoded data removed]"
          },
          "metadata": {}
        }
      ],
      "source": [
        "sns.pairplot(data_raw[[\"population\",\"suicides_no\"]], hue=\"suicides_no\")\n"
      ]
    },
    {
      "cell_type": "code",
      "execution_count": 276,
      "metadata": {
        "id": "oNFGF_mbfb3c",
        "colab": {
          "base_uri": "https://localhost:8080/",
          "height": 0
        },
        "outputId": "3f5a1b27-ecb0-4a24-95cf-caadd0baa65b"
      },
      "outputs": [
        {
          "output_type": "execute_result",
          "data": {
            "text/plain": [
              "<Axes: ylabel='population'>"
            ]
          },
          "metadata": {},
          "execution_count": 276
        },
        {
          "output_type": "display_data",
          "data": {
            "text/plain": [
              "<Figure size 640x480 with 1 Axes>"
            ],
            "image/png": "[encoded data removed]"
          },
          "metadata": {}
        }
      ],
      "source": [
        "sns.violinplot(y=\"population\", data=data_raw)"
      ]
    },
    {
      "cell_type": "code",
      "execution_count": 277,
      "metadata": {
        "id": "EuyxPuLeprlW",
        "colab": {
          "base_uri": "https://localhost:8080/",
          "height": 0
        },
        "outputId": "a5ea3668-cd51-490f-fe26-feeec7d69164"
      },
      "outputs": [
        {
          "output_type": "execute_result",
          "data": {
            "text/plain": [
              "<seaborn.axisgrid.PairGrid at 0x7f4996659c00>"
            ]
          },
          "metadata": {},
          "execution_count": 277
        },
        {
          "output_type": "display_data",
          "data": {
            "text/plain": [
              "<Figure size 341.111x250 with 2 Axes>"
            ],
            "image/png": "[encoded data removed]"
          },
          "metadata": {}
        }
      ],
      "source": [
        "sns.pairplot(data_raw[[\"HDI for year\",\"suicides_no\"]], hue=\"suicides_no\")"
      ]
    },
    {
      "cell_type": "code",
      "execution_count": 278,
      "metadata": {
        "id": "jyuCApX4qNsO",
        "colab": {
          "base_uri": "https://localhost:8080/",
          "height": 0
        },
        "outputId": "e12ef1ad-658a-47d6-acc5-e73c79d815f5"
      },
      "outputs": [
        {
          "output_type": "execute_result",
          "data": {
            "text/plain": [
              "<Axes: ylabel='HDI for year'>"
            ]
          },
          "metadata": {},
          "execution_count": 278
        },
        {
          "output_type": "display_data",
          "data": {
            "text/plain": [
              "<Figure size 640x480 with 1 Axes>"
            ],
            "image/png": "[encoded data removed]"
          },
          "metadata": {}
        }
      ],
      "source": [
        "sns.violinplot(y=\"HDI for year\", data=data_raw)"
      ]
    },
    {
      "cell_type": "code",
      "source": [
        "sns.pairplot(data_raw[[\"gdp_for_year ($)\",\"suicides_no\"]], hue=\"suicides_no\")"
      ],
      "metadata": {
        "colab": {
          "base_uri": "https://localhost:8080/",
          "height": 0
        },
        "id": "kfEVE1wxQ8dD",
        "outputId": "ac860782-bf54-4927-a6ee-76bd3aa7a15a"
      },
      "execution_count": 279,
      "outputs": [
        {
          "output_type": "execute_result",
          "data": {
            "text/plain": [
              "<seaborn.axisgrid.PairGrid at 0x7f4993bc9990>"
            ]
          },
          "metadata": {},
          "execution_count": 279
        },
        {
          "output_type": "display_data",
          "data": {
            "text/plain": [
              "<Figure size 341.111x250 with 2 Axes>"
            ],
            "image/png": "[encoded data removed]"
          },
          "metadata": {}
        }
      ]
    },
    {
      "cell_type": "code",
      "source": [
        "sns.violinplot(y=\"gdp_for_year ($)\", data=data_raw)"
      ],
      "metadata": {
        "colab": {
          "base_uri": "https://localhost:8080/",
          "height": 0
        },
        "id": "8HZTc9qERBAN",
        "outputId": "58c63f7e-4b94-4d83-da49-9abd1eeac705"
      },
      "execution_count": 280,
      "outputs": [
        {
          "output_type": "execute_result",
          "data": {
            "text/plain": [
              "<Axes: ylabel='gdp_for_year ($)'>"
            ]
          },
          "metadata": {},
          "execution_count": 280
        },
        {
          "output_type": "display_data",
          "data": {
            "text/plain": [
              "<Figure size 640x480 with 1 Axes>"
            ],
            "image/png": "[encoded data removed]"
          },
          "metadata": {}
        }
      ]
    },
    {
      "cell_type": "code",
      "source": [
        "sns.pairplot(data_raw[[\"gdp_per_capita ($)\",\"suicides_no\"]], hue=\"suicides_no\")"
      ],
      "metadata": {
        "colab": {
          "base_uri": "https://localhost:8080/",
          "height": 0
        },
        "id": "_dhteBijQ_j5",
        "outputId": "803e8f15-3dd8-4582-b7b0-2fb01c06a8a8"
      },
      "execution_count": 281,
      "outputs": [
        {
          "output_type": "execute_result",
          "data": {
            "text/plain": [
              "<seaborn.axisgrid.PairGrid at 0x7f4994e6f9d0>"
            ]
          },
          "metadata": {},
          "execution_count": 281
        },
        {
          "output_type": "display_data",
          "data": {
            "text/plain": [
              "<Figure size 341.111x250 with 2 Axes>"
            ],
            "image/png": "[encoded data removed]"
          },
          "metadata": {}
        }
      ]
    },
    {
      "cell_type": "code",
      "source": [
        "sns.violinplot(y=\"gdp_per_capita ($)\", data=data_raw)"
      ],
      "metadata": {
        "colab": {
          "base_uri": "https://localhost:8080/",
          "height": 0
        },
        "id": "MyRdEmYsRBkq",
        "outputId": "dd819adb-ba92-4a8b-a5fe-83f71a944c04"
      },
      "execution_count": 282,
      "outputs": [
        {
          "output_type": "execute_result",
          "data": {
            "text/plain": [
              "<Axes: ylabel='gdp_per_capita ($)'>"
            ]
          },
          "metadata": {},
          "execution_count": 282
        },
        {
          "output_type": "display_data",
          "data": {
            "text/plain": [
              "<Figure size 640x480 with 1 Axes>"
            ],
            "image/png": "[encoded data removed]"
          },
          "metadata": {}
        }
      ]
    },
    {
      "cell_type": "code",
      "source": [
        "sns.boxplot(y=\"population\", data=data_raw)"
      ],
      "metadata": {
        "colab": {
          "base_uri": "https://localhost:8080/",
          "height": 0
        },
        "id": "PBWmTeRgT1NA",
        "outputId": "307660c7-d507-4892-c6e3-f46446d3f116"
      },
      "execution_count": 283,
      "outputs": [
        {
          "output_type": "execute_result",
          "data": {
            "text/plain": [
              "<Axes: ylabel='population'>"
            ]
          },
          "metadata": {},
          "execution_count": 283
        },
        {
          "output_type": "display_data",
          "data": {
            "text/plain": [
              "<Figure size 640x480 with 1 Axes>"
            ],
            "image/png": "[encoded data removed]"
          },
          "metadata": {}
        }
      ]
    },
    {
      "cell_type": "code",
      "source": [
        "\n",
        "sns.boxplot(y=\"gdp_for_year ($)\", data=data_raw)"
      ],
      "metadata": {
        "colab": {
          "base_uri": "https://localhost:8080/",
          "height": 0
        },
        "id": "ztQ-Xo3GT6OQ",
        "outputId": "8cc80864-5f65-487b-8273-055eda12ff07"
      },
      "execution_count": 284,
      "outputs": [
        {
          "output_type": "execute_result",
          "data": {
            "text/plain": [
              "<Axes: ylabel='gdp_for_year ($)'>"
            ]
          },
          "metadata": {},
          "execution_count": 284
        },
        {
          "output_type": "display_data",
          "data": {
            "text/plain": [
              "<Figure size 640x480 with 1 Axes>"
            ],
            "image/png": "[encoded data removed]"
          },
          "metadata": {}
        }
      ]
    },
    {
      "cell_type": "code",
      "source": [
        "sns.boxplot(y=\"gdp_per_capita ($)\", data=data_raw)"
      ],
      "metadata": {
        "colab": {
          "base_uri": "https://localhost:8080/",
          "height": 0
        },
        "id": "JSS0_45qzHcy",
        "outputId": "12d55326-4360-4da3-ae15-f48c7cb10d43"
      },
      "execution_count": 285,
      "outputs": [
        {
          "output_type": "execute_result",
          "data": {
            "text/plain": [
              "<Axes: ylabel='gdp_per_capita ($)'>"
            ]
          },
          "metadata": {},
          "execution_count": 285
        },
        {
          "output_type": "display_data",
          "data": {
            "text/plain": [
              "<Figure size 640x480 with 1 Axes>"
            ],
            "image/png": "[encoded data removed]"
          },
          "metadata": {}
        }
      ]
    },
    {
      "cell_type": "code",
      "execution_count": 286,
      "metadata": {
        "id": "ZEBvQywp6qUL",
        "colab": {
          "base_uri": "https://localhost:8080/"
        },
        "outputId": "8e1cb355-0495-4a01-822d-70f7c3f044d1"
      },
      "outputs": [
        {
          "output_type": "execute_result",
          "data": {
            "text/plain": [
              "14183.262000003728"
            ]
          },
          "metadata": {},
          "execution_count": 286
        }
      ],
      "source": [
        "data_raw['suicides_no'].quantile(0.9995)"
      ]
    },
    {
      "cell_type": "code",
      "execution_count": 287,
      "metadata": {
        "id": "6uPtoBHQ6qUL"
      },
      "outputs": [],
      "source": [
        "rows_to_drop = data_raw[data_raw['suicides_no'] > data_raw['suicides_no'].quantile(0.95)].index\n",
        "len(rows_to_drop)\n",
        "data_raw = data_raw.drop(rows_to_drop)\n",
        "rows_to_drop = data_raw[data_raw['population'] > data_raw['population'].quantile(0.95)].index\n",
        "len(rows_to_drop)\n",
        "data_raw = data_raw.drop(rows_to_drop)\n",
        "rows_to_drop = data_raw[data_raw['suicides/100k pop'] > data_raw['suicides/100k pop'].quantile(0.995)].index\n",
        "len(rows_to_drop)\n",
        "data_raw = data_raw.drop(rows_to_drop)\n",
        "rows_to_drop = data_raw[data_raw['gdp_for_year ($)'] > data_raw['gdp_for_year ($)'].quantile(0.95)].index\n",
        "len(rows_to_drop)\n",
        "data_raw = data_raw.drop(rows_to_drop)\n",
        "rows_to_drop = data_raw[data_raw['gdp_per_capita ($)'] > data_raw['gdp_per_capita ($)'].quantile(0.9995)].index\n",
        "len(rows_to_drop)\n",
        "data_raw = data_raw.drop(rows_to_drop)"
      ]
    },
    {
      "cell_type": "code",
      "execution_count": 288,
      "metadata": {
        "id": "tdWhfuTgoazA",
        "colab": {
          "base_uri": "https://localhost:8080/",
          "height": 0
        },
        "outputId": "a942afbe-cebb-46b5-b9fa-53dd933d0a17"
      },
      "outputs": [
        {
          "output_type": "execute_result",
          "data": {
            "text/plain": [
              "<Axes: ylabel='suicides_no'>"
            ]
          },
          "metadata": {},
          "execution_count": 288
        },
        {
          "output_type": "display_data",
          "data": {
            "text/plain": [
              "<Figure size 640x480 with 1 Axes>"
            ],
            "image/png": "[encoded data removed]"
          },
          "metadata": {}
        }
      ],
      "source": [
        "sns.violinplot(y=\"suicides_no\", data=data_raw)"
      ]
    },
    {
      "cell_type": "code",
      "execution_count": 289,
      "metadata": {
        "id": "SYSKDaVRgxNC",
        "colab": {
          "base_uri": "https://localhost:8080/",
          "height": 0
        },
        "outputId": "88892ca0-f462-4bc4-9f79-40cefbdb0209"
      },
      "outputs": [
        {
          "output_type": "execute_result",
          "data": {
            "text/plain": [
              "<Axes: ylabel='population'>"
            ]
          },
          "metadata": {},
          "execution_count": 289
        },
        {
          "output_type": "display_data",
          "data": {
            "text/plain": [
              "<Figure size 640x480 with 1 Axes>"
            ],
            "image/png": "[encoded data removed]"
          },
          "metadata": {}
        }
      ],
      "source": [
        "sns.violinplot(y=\"population\", data=data_raw)"
      ]
    },
    {
      "cell_type": "code",
      "execution_count": 290,
      "metadata": {
        "id": "GXO_eL2kgzk4",
        "colab": {
          "base_uri": "https://localhost:8080/",
          "height": 0
        },
        "outputId": "fa1dca3e-e0de-4557-c604-11d6197e1b15"
      },
      "outputs": [
        {
          "output_type": "execute_result",
          "data": {
            "text/plain": [
              "<Axes: ylabel='suicides/100k pop'>"
            ]
          },
          "metadata": {},
          "execution_count": 290
        },
        {
          "output_type": "display_data",
          "data": {
            "text/plain": [
              "<Figure size 640x480 with 1 Axes>"
            ],
            "image/png": "[encoded data removed]"
          },
          "metadata": {}
        }
      ],
      "source": [
        "sns.violinplot(y=\"suicides/100k pop\", data=data_raw)"
      ]
    },
    {
      "cell_type": "code",
      "source": [
        "sns.violinplot(y=\"gdp_for_year ($)\", data=data_raw)"
      ],
      "metadata": {
        "colab": {
          "base_uri": "https://localhost:8080/",
          "height": 0
        },
        "id": "JpWHNmMtUmcA",
        "outputId": "b945fb05-cd9d-47fd-9566-cf6a9c6bd94a"
      },
      "execution_count": 291,
      "outputs": [
        {
          "output_type": "execute_result",
          "data": {
            "text/plain": [
              "<Axes: ylabel='gdp_for_year ($)'>"
            ]
          },
          "metadata": {},
          "execution_count": 291
        },
        {
          "output_type": "display_data",
          "data": {
            "text/plain": [
              "<Figure size 640x480 with 1 Axes>"
            ],
            "image/png": "[encoded data removed]"
          },
          "metadata": {}
        }
      ]
    },
    {
      "cell_type": "code",
      "source": [
        "sns.violinplot(y=\"gdp_per_capita ($)\", data=data_raw)"
      ],
      "metadata": {
        "colab": {
          "base_uri": "https://localhost:8080/",
          "height": 0
        },
        "id": "3DA2CzawUmmW",
        "outputId": "4a073714-c117-43d2-ff4c-a0bbb17314e7"
      },
      "execution_count": 292,
      "outputs": [
        {
          "output_type": "execute_result",
          "data": {
            "text/plain": [
              "<Axes: ylabel='gdp_per_capita ($)'>"
            ]
          },
          "metadata": {},
          "execution_count": 292
        },
        {
          "output_type": "display_data",
          "data": {
            "text/plain": [
              "<Figure size 640x480 with 1 Axes>"
            ],
            "image/png": "[encoded data removed]"
          },
          "metadata": {}
        }
      ]
    },
    {
      "cell_type": "markdown",
      "metadata": {
        "id": "P_p2s5ymp-eX"
      },
      "source": [
        "Теперь картина стала намного лучше."
      ]
    },
    {
      "cell_type": "markdown",
      "metadata": {
        "id": "XkMAQxvIi-Uz"
      },
      "source": [
        "Интересно посмотреть, сколько раз номинальные переменные принимают то или иное значение"
      ]
    },
    {
      "cell_type": "code",
      "execution_count": 293,
      "metadata": {
        "id": "irH1vQApi-Uz",
        "colab": {
          "base_uri": "https://localhost:8080/"
        },
        "outputId": "513ba7c7-f810-40b0-f754-8715ea23efcc"
      },
      "outputs": [
        {
          "output_type": "execute_result",
          "data": {
            "text/plain": [
              "75+ years      4034\n",
              "55-74 years    4009\n",
              "15-24 years    3993\n",
              "25-34 years    3985\n",
              "05-14 years    3968\n",
              "35-54 years    3735\n",
              "Name: age, dtype: int64"
            ]
          },
          "metadata": {},
          "execution_count": 293
        }
      ],
      "source": [
        "data_raw['age'].value_counts()"
      ]
    },
    {
      "cell_type": "code",
      "execution_count": 294,
      "metadata": {
        "id": "eo_YJbn7qMtk",
        "colab": {
          "base_uri": "https://localhost:8080/",
          "height": 0
        },
        "outputId": "12b6eb96-60e7-4e76-afd8-4c15d671ffba"
      },
      "outputs": [
        {
          "output_type": "display_data",
          "data": {
            "text/plain": [
              "<Figure size 640x480 with 1 Axes>"
            ],
            "image/png": "[encoded data removed]"
          },
          "metadata": {}
        }
      ],
      "source": [
        "sns.countplot(x='age', data=data_raw)\n",
        "pass"
      ]
    },
    {
      "cell_type": "code",
      "execution_count": 295,
      "metadata": {
        "id": "eWUsbAChahoh",
        "colab": {
          "base_uri": "https://localhost:8080/",
          "height": 0
        },
        "outputId": "2c933164-a188-46f7-adb1-47f6cd24edda"
      },
      "outputs": [
        {
          "output_type": "display_data",
          "data": {
            "text/plain": [
              "<Figure size 640x480 with 1 Axes>"
            ],
            "image/png": "[encoded data removed]"
          },
          "metadata": {}
        }
      ],
      "source": [
        "sns.countplot(x='sex', data=data_raw)\n",
        "pass"
      ]
    },
    {
      "cell_type": "code",
      "execution_count": 296,
      "metadata": {
        "id": "COnBuJHzapgP",
        "colab": {
          "base_uri": "https://localhost:8080/",
          "height": 0
        },
        "outputId": "420249bc-91ff-465a-f625-49b6217563c6"
      },
      "outputs": [
        {
          "output_type": "display_data",
          "data": {
            "text/plain": [
              "<Figure size 640x480 with 1 Axes>"
            ],
            "image/png": "[encoded data removed]"
          },
          "metadata": {}
        }
      ],
      "source": [
        "sns.countplot(x='generation', data=data_raw)\n",
        "pass"
      ]
    },
    {
      "cell_type": "markdown",
      "metadata": {
        "id": "OPT2kv_adPAE"
      },
      "source": [
        "Видим что данные не сбалансированные.\n",
        "Можем посмотреть на соотношение классов более подробно"
      ]
    },
    {
      "cell_type": "code",
      "execution_count": 297,
      "metadata": {
        "id": "jU5iMllhcX6M",
        "colab": {
          "base_uri": "https://localhost:8080/",
          "height": 0
        },
        "outputId": "80772fe2-4ae1-4649-d5a5-7e4ae94a4a1c"
      },
      "outputs": [
        {
          "output_type": "display_data",
          "data": {
            "text/plain": [
              "<Figure size 640x480 with 1 Axes>"
            ],
            "image/png": "[encoded data removed]"
          },
          "metadata": {}
        }
      ],
      "source": [
        "plt.pie(data_raw['generation'].value_counts(), labels = ['2.Silent','4.Generation X' ,'5.Millenials' ,\n",
        "                  '3.Boomers', '1.G.I. Generation', '6.Generation Z'], colors = sns.color_palette(\"hls\",6), autopct = '%1.1f%%')\n",
        "pass"
      ]
    },
    {
      "cell_type": "markdown",
      "metadata": {
        "id": "7WhjlQwKcPRj"
      },
      "source": [
        "Построение диаграммы рассеивания для признаков."
      ]
    },
    {
      "cell_type": "code",
      "execution_count": null,
      "metadata": {
        "id": "buQ9jRszvULq"
      },
      "outputs": [],
      "source": [
        "sns.pairplot(data_raw, hue=\"generation\", palette=\"turbo\")\n",
        "pass"
      ]
    },
    {
      "cell_type": "markdown",
      "metadata": {
        "id": "JhgHOO6dsW5G"
      },
      "source": [
        "Выведем матрицу корреляции наших численных признаков:"
      ]
    },
    {
      "cell_type": "code",
      "execution_count": null,
      "metadata": {
        "id": "eAAQubsrsW5G"
      },
      "outputs": [],
      "source": [
        "corr_mat = data_raw.corr(numeric_only=True)\n",
        "corr_mat"
      ]
    },
    {
      "cell_type": "code",
      "execution_count": null,
      "metadata": {
        "id": "1lnAJ8zkur_e"
      },
      "outputs": [],
      "source": [
        "sns.heatmap(corr_mat, square=True, vmin=-1, vmax=1, cmap='seismic')\n",
        "pass"
      ]
    },
    {
      "cell_type": "markdown",
      "metadata": {
        "id": "Xg0d-nTo_CUS"
      },
      "source": [
        "Поличим список признаков в которых наблюдается корелляция"
      ]
    },
    {
      "cell_type": "code",
      "execution_count": null,
      "metadata": {
        "id": "tkPjh5w8-_or"
      },
      "outputs": [],
      "source": [
        "import numpy as np\n",
        "corr_mat.where(np.triu(corr_mat > 0.5, k=1)).stack()"
      ]
    },
    {
      "cell_type": "markdown",
      "metadata": {
        "id": "xPpJhQdD_3Em"
      },
      "source": [
        "Исходя из этих данных заметна высокая, очевидная корреляция:\n",
        "* между suicides_no, population -  кол-ство самоубийств и кол-ства населения\n",
        "* между population, gdp_for_year - кол-ства населения и ввп в год\n",
        "* между HDI for year, gdp_per_capita - индекс человеческого развития в год и ввп на душу населения\n"
      ]
    },
    {
      "cell_type": "code",
      "execution_count": null,
      "metadata": {
        "id": "YbBiR4Lg_rgx"
      },
      "outputs": [],
      "source": [
        "import numpy as np\n",
        "corr_mat.where(np.triu(corr_mat < -0.5, k=1)).stack()"
      ]
    },
    {
      "cell_type": "markdown",
      "metadata": {
        "id": "1MikW4QOCCnN"
      },
      "source": [
        "Большой обратной корреляции не имеется"
      ]
    },
    {
      "cell_type": "code",
      "execution_count": null,
      "metadata": {
        "id": "QTsRKH0SDzL4"
      },
      "outputs": [],
      "source": [
        "data_raw.plot(kind = 'scatter', x = 'population', y = 'suicides_no', alpha=.5)\n",
        "pass"
      ]
    },
    {
      "cell_type": "code",
      "source": [
        "data_raw.plot(kind = 'scatter', x = 'HDI for year', y = 'gdp_for_year ($)', alpha=.05)\n",
        "pass"
      ],
      "metadata": {
        "id": "66tCIVjO6vJ6"
      },
      "execution_count": null,
      "outputs": []
    },
    {
      "cell_type": "code",
      "source": [
        "data_raw.plot(kind = 'scatter', x = 'HDI for year', y = 'gdp_per_capita ($)', alpha=.05)\n",
        "pass"
      ],
      "metadata": {
        "id": "x0KlqZctLAo5"
      },
      "execution_count": null,
      "outputs": []
    },
    {
      "cell_type": "code",
      "execution_count": null,
      "metadata": {
        "id": "SETQ8FpLEvWN"
      },
      "outputs": [],
      "source": [
        "data_raw.drop('suicides/100k pop', axis=1).corrwith(data_raw['suicides/100k pop']).plot(kind='bar', grid=True, figsize=(20, 5));\n",
        "pass\n",
        "#year\tsex\tage\tsuicides_no\tpopulation\tsuicides/1data_raw.describe()00k pop\tcountry-year\tHDI for year\tgdp_for_year ($)\tgdp_per_capita ($)\tgeneration"
      ]
    },
    {
      "cell_type": "code",
      "source": [
        "data_raw.describe()"
      ],
      "metadata": {
        "id": "22fD7VzX7ANy"
      },
      "execution_count": null,
      "outputs": []
    },
    {
      "cell_type": "markdown",
      "metadata": {
        "id": "qQLwQQUPw6CT"
      },
      "source": [
        "Вероятность самоубийства больше, если население больше и\n",
        "ввп в год больше\n"
      ]
    },
    {
      "cell_type": "code",
      "source": [
        "# Создание трехмерного графика\n",
        "#population gdp_for_year ($)\n",
        "fig = plt.figure()\n",
        "ax = fig.add_subplot(111, projection='3d')\n",
        "ax.set_xlabel('HDI for year')\n",
        "ax.set_ylabel('population')\n",
        "ax.set_zlabel('gdp_for_year ($)')\n",
        "#c = ['r' if val > 70.0  else 'g' for val in data_raw['suicides/100k pop']]\n",
        "c = ['black' if val < 15.0 else 'y' if  val < 50.0 else 'orange' if val < 100.0 else 'r' if   val < 300.0 else 'darkred' for val in data_raw['suicides_no']]\n",
        "ax.scatter(data_raw['HDI for year'], data_raw['population'], data_raw['gdp_for_year ($)'], c=c, alpha=1)\n",
        "\n",
        "# Отображение графика\n",
        "plt.show()"
      ],
      "metadata": {
        "id": "PU42n2u79bAZ"
      },
      "execution_count": null,
      "outputs": []
    },
    {
      "cell_type": "code",
      "source": [],
      "metadata": {
        "id": "ahmqUTFi8XBt"
      },
      "execution_count": null,
      "outputs": []
    },
    {
      "cell_type": "markdown",
      "metadata": {
        "id": "smM_Vg5zdlMy"
      },
      "source": [
        "Получившийся график подтверждает наши утверждения: большое количество населения и большое ввп в год"
      ]
    },
    {
      "cell_type": "markdown",
      "metadata": {
        "id": "9ovPyFgjovwr"
      },
      "source": [
        "## 4. Обработка пропущенных значений"
      ]
    },
    {
      "cell_type": "markdown",
      "metadata": {
        "id": "tylpTqfI0d-o"
      },
      "source": [
        "Теперь проверим датасет на наличие пропущенных значений:"
      ]
    },
    {
      "cell_type": "code",
      "execution_count": null,
      "metadata": {
        "id": "z8BQhIAARSyg"
      },
      "outputs": [],
      "source": [
        "data_raw.isnull().sum()"
      ]
    },
    {
      "cell_type": "markdown",
      "metadata": {
        "id": "fsUQae1D0mL7"
      },
      "source": [
        "Мы видим столбцы с пропущенными значениями. Можно было бы просто на просто удалить строки с этими ячейками, но их достаточно много."
      ]
    },
    {
      "cell_type": "markdown",
      "metadata": {
        "id": "9dGispBz2bzX"
      },
      "source": [
        "Поэтому заполним медианами пропущенные значения в столбцах, соответствующих числовым признакам."
      ]
    },
    {
      "cell_type": "code",
      "execution_count": null,
      "metadata": {
        "id": "t_MnMOsnD29_"
      },
      "outputs": [],
      "source": [
        "data_raw.fillna(data_raw.median(axis = 0), axis=0 , inplace=True)"
      ]
    },
    {
      "cell_type": "markdown",
      "metadata": {
        "id": "Zy_DPboxFFo-"
      },
      "source": [
        "Проверим изменения"
      ]
    },
    {
      "cell_type": "code",
      "execution_count": null,
      "metadata": {
        "id": "feUcpROUZvwi"
      },
      "outputs": [],
      "source": [
        "data_raw.isna().sum()"
      ]
    },
    {
      "cell_type": "markdown",
      "metadata": {
        "id": "kFWTTlGPuKQh"
      },
      "source": [
        "##5. Бинаризация номинальных признаков\n"
      ]
    },
    {
      "cell_type": "markdown",
      "metadata": {
        "id": "RcBMPGHTJxF1"
      },
      "source": [
        "Алгоритмы из библиотеки scikit-learn (почти) не умеют работать напрямую с категориальными признаками. Поэтому их вначале надо закодировать с помощью числовых принаков."
      ]
    },
    {
      "cell_type": "markdown",
      "metadata": {
        "id": "VSudPsGBPQTv"
      },
      "source": [
        "Заменяем текстовые значения на числовые"
      ]
    },
    {
      "cell_type": "code",
      "execution_count": null,
      "metadata": {
        "id": "KqyFQGCLPXcT"
      },
      "outputs": [],
      "source": [
        "data_raw['country'] = LabelEncoder().fit_transform(data_raw['country'])\n",
        "data_raw['country-year'] = LabelEncoder().fit_transform(data_raw['country-year'])"
      ]
    },
    {
      "cell_type": "code",
      "execution_count": null,
      "metadata": {
        "id": "YcPsjIrIPvc1"
      },
      "outputs": [],
      "source": [
        "data_raw.head()"
      ]
    },
    {
      "cell_type": "markdown",
      "metadata": {
        "id": "fowBi7ZZK44O"
      },
      "source": [
        "Для категориальных (небинарных) признаках 'age', 'sex', 'generation' применим метод *бинаризации* (*one-hot encoding*)"
      ]
    },
    {
      "cell_type": "code",
      "execution_count": null,
      "metadata": {
        "id": "5Wrc8-qqKS8E"
      },
      "outputs": [],
      "source": [
        "enc = OneHotEncoder(drop='if_binary', sparse_output=False)\n",
        "enc.fit(data_raw[['age', 'sex', 'generation']])\n",
        "dummies = pd.DataFrame(enc.transform(data_raw[['age', 'sex', 'generation']]),\n",
        "                       columns=enc.get_feature_names_out(), index=data_raw.index)"
      ]
    },
    {
      "cell_type": "code",
      "execution_count": null,
      "metadata": {
        "id": "aCTbfAF9KqSq"
      },
      "outputs": [],
      "source": [
        "dummies.head()"
      ]
    },
    {
      "cell_type": "markdown",
      "metadata": {
        "id": "ZeLj3xEXLS0F"
      },
      "source": [
        "Добавим эти dummy-столбцы к таблице и удалим исходные столбцы"
      ]
    },
    {
      "cell_type": "code",
      "execution_count": null,
      "metadata": {
        "id": "KWH2cXh1i-U-"
      },
      "outputs": [],
      "source": [
        "data_raw = pd.concat((data_raw, dummies), axis=1).drop(['age', 'sex', 'generation'], axis=1)"
      ]
    },
    {
      "cell_type": "code",
      "execution_count": null,
      "metadata": {
        "id": "JHJRXa0Ri-U-"
      },
      "outputs": [],
      "source": [
        "data_raw.head()"
      ]
    },
    {
      "cell_type": "markdown",
      "metadata": {
        "id": "elgPY3tczpeE"
      },
      "source": [
        "Перед применением алгоритмов машинного обучения количественные признаки полезно нормализовать.\n",
        "Будем использовать стандартизацию - линейное преобразование, приводящее все значения к нулевому среднему и единичному стандартному отклонению\n",
        "\n",
        "Выполним стандартизацию всех признаков.\n"
      ]
    },
    {
      "cell_type": "code",
      "execution_count": null,
      "metadata": {
        "id": "vrdAtCfkMIs-"
      },
      "outputs": [],
      "source": [
        "from sklearn.preprocessing import StandardScaler\n",
        "scaler = StandardScaler()\n",
        "scaler.fit(data_raw)\n",
        "data_raw = pd.DataFrame(scaler.transform(data_raw), columns=data_raw.columns, index=data_raw.index)"
      ]
    },
    {
      "cell_type": "code",
      "execution_count": null,
      "metadata": {
        "id": "bDLWbgIWMLel"
      },
      "outputs": [],
      "source": [
        "data_raw.describe()"
      ]
    },
    {
      "cell_type": "markdown",
      "metadata": {
        "id": "FJo2WaMLznVi"
      },
      "source": [
        "##6. Разбить данные на обучающую и тестовую выборки\n"
      ]
    },
    {
      "cell_type": "markdown",
      "metadata": {
        "id": "EZtqkOMeQf8q"
      },
      "source": [
        "Для предсказания количества самоубийств будем использовать все входные признаки"
      ]
    },
    {
      "cell_type": "code",
      "execution_count": null,
      "metadata": {
        "id": "HffZuxZsQcv9"
      },
      "outputs": [],
      "source": [
        "X = data_raw.drop(['suicides/100k pop'], axis=1)\n",
        "y = data_raw['suicides/100k pop']"
      ]
    },
    {
      "cell_type": "markdown",
      "metadata": {
        "id": "tbK2UIOXi-U_"
      },
      "source": [
        "Разобьем данные на обучающую и тестовую выборки в пропорции 3:1 (75% - обучающая выборка, 25% - тестовая):"
      ]
    },
    {
      "cell_type": "code",
      "execution_count": null,
      "metadata": {
        "id": "q6RHq0bui-U_"
      },
      "outputs": [],
      "source": [
        "from sklearn.model_selection import train_test_split\n",
        "X_train, X_test, Y_train, Y_test = train_test_split(X, y, test_size = 0.15, random_state = 42)\n",
        "\n",
        "N_train, _ = X_train.shape\n",
        "N_test,  _ = X_test.shape\n",
        "\n",
        "N_train, N_test"
      ]
    },
    {
      "cell_type": "markdown",
      "metadata": {
        "id": "fi-zjBRAc63N"
      },
      "source": [
        "Интерпретируем все значения `y` как целые числа:"
      ]
    },
    {
      "cell_type": "code",
      "execution_count": null,
      "metadata": {
        "id": "cHeNH2huc-mK"
      },
      "outputs": [],
      "source": [
        "Y_test = Y_test.astype(\"int\")\n",
        "Y_train = Y_train.astype(\"int\")"
      ]
    },
    {
      "cell_type": "markdown",
      "metadata": {
        "id": "UUKu-qADhHU4"
      },
      "source": [
        "## 7. Используем классификатор ближайших соседей (kNN), вычислим ошибки на выборках."
      ]
    },
    {
      "cell_type": "markdown",
      "metadata": {
        "id": "-Syhc3LcbwKT"
      },
      "source": [
        "Для начала запустим классификатор к-ближайших соседей с 3 соседями"
      ]
    },
    {
      "cell_type": "code",
      "execution_count": null,
      "metadata": {
        "id": "EogUmdl4hHU5"
      },
      "outputs": [],
      "source": [
        "from sklearn.neighbors import KNeighborsClassifier\n",
        "from sklearn.metrics import mean_squared_error\n",
        "\n",
        "model = KNeighborsClassifier(n_neighbors=3)\n",
        "model.fit(X_train, Y_train)\n",
        "\n",
        "Y_train_predict = model.predict(X_train)\n",
        "Y_test_predict  = model.predict(X_test)\n",
        "\n",
        "\n",
        "RMSE_train = mean_squared_error(Y_train, Y_train_predict)**.5\n",
        "RMSE_test  = mean_squared_error(Y_test,  Y_test_predict)**.5"
      ]
    },
    {
      "cell_type": "code",
      "execution_count": null,
      "metadata": {
        "id": "zveNiwAxbKo5"
      },
      "outputs": [],
      "source": [
        "RMSE_train, RMSE_test"
      ]
    },
    {
      "cell_type": "markdown",
      "metadata": {
        "id": "mZb4wQuO78HX"
      },
      "source": [
        "## 8. Подберем оптимальное значение гиперпараметра (к-ва ближайших соседей)"
      ]
    },
    {
      "cell_type": "markdown",
      "metadata": {
        "id": "dbc105e5-46cd-4b7c-8742-bb9a349d26af"
      },
      "source": [
        "Рассмотрим различное количество соседей. Наименьшая ошибка покажет нам наилуший выбор параметра k для метода."
      ]
    },
    {
      "cell_type": "code",
      "source": [
        "model = KNeighborsClassifier()\n",
        "error_train = []\n",
        "error_test = []\n",
        "for i in range(1, 10):\n",
        "    model = KNeighborsClassifier(n_neighbors=i)\n",
        "    model.fit(X_train, Y_train)\n",
        "    train_predict = model.predict(X_train)\n",
        "    test_predict  = model.predict(X_test)\n",
        "    error_train.append(np.mean(test_predict != Y_test ))\n",
        "    error_test.append(np.mean(train_predict != Y_train))"
      ],
      "metadata": {
        "id": "nQ757gWltRuL"
      },
      "execution_count": null,
      "outputs": []
    },
    {
      "cell_type": "code",
      "source": [
        "plt.figure(figsize=(10,6))\n",
        "plt.plot(range(1,10),error_train,linestyle='solid', marker='o')\n",
        "plt.plot(range(1,10),error_test,linestyle='solid', marker='o')"
      ],
      "metadata": {
        "id": "g7F438f5tTsb"
      },
      "execution_count": null,
      "outputs": []
    },
    {
      "cell_type": "markdown",
      "metadata": {
        "id": "T4Ku10-SiIct"
      },
      "source": [
        "Лучший результат в 7% достигается при n=2.\n",
        "Подводя итог, можно сделать вывод, что \"предобработка\" данных была выполнена успешно и задача классификации решена."
      ]
    },
    {
      "cell_type": "markdown",
      "metadata": {
        "id": "b0lODHtGUYP9"
      },
      "source": [
        "# Общие выводы"
      ]
    },
    {
      "cell_type": "markdown",
      "source": [],
      "metadata": {
        "id": "PxN-HmX85TUi"
      }
    },
    {
      "cell_type": "markdown",
      "metadata": {
        "id": "8mMm5FlGXjft"
      },
      "source": [
        "В данной работе мы познакомились с датасетом  master4.csv. Выяснили некоторые подробности о взаимосвязи количества населения, ввп в год и иных показателей на количество самоубийств. Нашли и разрешили проблему с наличием пропущенных значений. Провели некоторую подготовку данных: векторизацию категориальных признаков и стандартизацию количественных. Для визуализации данных мы использовали библиотеку seaborn и построили диаграмму violinplot для всех параметров. В результате наша работа позволила успешно обучить модели для предсказания количеств самоубийств и получить хорошие метрики качества. Успешно обучили модели kNN, подобрали наиболее удачное количество соседей, немного поэкспериментировали. Также рассмотрели проблему несбалансированности данных."
      ]
    },
    {
      "cell_type": "markdown",
      "metadata": {
        "id": "BGZVTUzhfsLJ"
      },
      "source": [
        "# Random Forest"
      ]
    },
    {
      "cell_type": "code",
      "execution_count": null,
      "metadata": {
        "id": "2cpCUaR5fsLJ"
      },
      "outputs": [],
      "source": [
        "from sklearn import ensemble\n",
        "rf = ensemble.RandomForestClassifier(n_estimators = 1000)\n",
        "rf.fit(X_train, Y_train)\n",
        "\n",
        "err_train = np.mean(Y_train != rf.predict(X_train))\n",
        "err_test  = np.mean(Y_test  != rf.predict(X_test))\n",
        "\n",
        "print(err_train, err_test)"
      ]
    },
    {
      "cell_type": "markdown",
      "metadata": {
        "id": "-gI5Y-dZfsLK"
      },
      "source": [
        "# Логистическая регрессия"
      ]
    },
    {
      "cell_type": "code",
      "execution_count": null,
      "metadata": {
        "id": "BEakkrv1fsLL"
      },
      "outputs": [],
      "source": [
        "from sklearn.linear_model import LogisticRegression\n",
        "model = LogisticRegression(max_iter=500)\n",
        "model.fit(X_train, Y_train)\n",
        "\n",
        "Y_train_pred = model.predict(X_train)\n",
        "Y_test_pred = model.predict(X_test)\n",
        "np.mean(Y_train != Y_train_pred), np.mean(Y_test != Y_test_pred)"
      ]
    },
    {
      "cell_type": "markdown",
      "metadata": {
        "id": "rMWknNyDfsLL"
      },
      "source": [
        "# Неглубокая нейронная сеть"
      ]
    },
    {
      "cell_type": "code",
      "execution_count": null,
      "metadata": {
        "id": "fMmdrwyGfsLL"
      },
      "outputs": [],
      "source": [
        "from sklearn.neural_network import MLPClassifier"
      ]
    },
    {
      "cell_type": "code",
      "execution_count": null,
      "metadata": {
        "id": "rFN3rEIlfsLL"
      },
      "outputs": [],
      "source": [
        "mlp_model = MLPClassifier(hidden_layer_sizes = (20, 20),\n",
        "                          solver = 'lbfgs',\n",
        "                          activation = 'logistic',\n",
        "                          random_state = 42,\n",
        "                          max_iter = 1000)\n",
        "mlp_model.fit(X_train, Y_train)\n",
        "Y_train_mlp_pred = mlp_model.predict(X_train)\n",
        "Y_test_mlp_pred = mlp_model.predict(X_test)\n",
        "print(np.mean(Y_train != Y_train_mlp_pred), np.mean(Y_test != Y_test_mlp_pred))"
      ]
    },
    {
      "cell_type": "markdown",
      "source": [
        "## Поиск оптимальных значений гиперпараметров для случайного леса"
      ],
      "metadata": {
        "id": "1yVddDkt-dOK"
      }
    },
    {
      "cell_type": "markdown",
      "source": [
        "Для этогом метода построим confusing matrix"
      ],
      "metadata": {
        "id": "IRyggp7t_XtF"
      }
    },
    {
      "cell_type": "code",
      "source": [
        "from sklearn.metrics import confusion_matrix\n",
        "from sklearn.metrics import ConfusionMatrixDisplay\n",
        "import matplotlib.pyplot as plt\n",
        "cm = confusion_matrix(Y_test, rf.predict(X_test))\n",
        "disp = ConfusionMatrixDisplay(confusion_matrix=cm)\n",
        "disp.plot(cmap=plt.cm.Blues)"
      ],
      "metadata": {
        "id": "P5_zesVfdt9T"
      },
      "execution_count": null,
      "outputs": []
    },
    {
      "cell_type": "markdown",
      "source": [
        "Начнём подбор гиперпараметров с max_depth, который отвечает за максимальную глубину деревьев."
      ],
      "metadata": {
        "id": "QxYfCNEZ_mEf"
      }
    },
    {
      "cell_type": "code",
      "source": [
        "from sklearn.ensemble import RandomForestClassifier\n",
        "max_depths = [x for x in range(10,110,10)]\n",
        "test_error = []\n",
        "train_error = []\n",
        "for max_depth in max_depths:\n",
        "    rf = RandomForestClassifier(max_depth=max_depth)\n",
        "    rf.fit(X_train, Y_train)\n",
        "\n",
        "    Y_train_pred = rf.predict(X_train)\n",
        "    Y_test_pred = rf.predict(X_test)\n",
        "\n",
        "    train_error.append(mean_squared_error(Y_train, Y_train_pred))\n",
        "    test_error.append(mean_squared_error(Y_test, Y_test_pred))"
      ],
      "metadata": {
        "id": "WosD3ALRm6Q1"
      },
      "execution_count": null,
      "outputs": []
    },
    {
      "cell_type": "code",
      "source": [
        "fig, ax = plt.subplots()\n",
        "\n",
        "ax.plot(max_depths, train_error, 'b-o', label = 'train')\n",
        "ax.plot(max_depths, test_error, 'r-o', label = 'test')\n",
        "ax.set_title('Error vs max_depth')\n",
        "ax.set_xlabel('max_depth')\n",
        "ax.set_ylabel('error')\n",
        "ax.legend()\n",
        "plt.show()"
      ],
      "metadata": {
        "id": "8duwOOElohjI"
      },
      "execution_count": null,
      "outputs": []
    },
    {
      "cell_type": "markdown",
      "source": [
        "Смотря на график можно заметить, что при достижении значения max_depth=30 ошибка практически не изменяется. Кроме того, поскольку модель на тренировочной выборке показывает результаты лучше, чем на тестовой, то получаем эффект переобучения."
      ],
      "metadata": {
        "id": "bgT2LSXLBXSI"
      }
    },
    {
      "cell_type": "markdown",
      "source": [
        "Вычислим минимальное значение ошибки на тестовой и тренировочной выборках:"
      ],
      "metadata": {
        "id": "lpfagzbxCHTq"
      }
    },
    {
      "cell_type": "code",
      "source": [
        "min_train_error = np.min(train_error)\n",
        "min_test_error = np.min(test_error)\n",
        "print(\"Минимальное значение ошибки на обучающей выборке: %.2f%%; и на тренировочной выборке: %.2f%%\"%(min_test_error,min_train_error))"
      ],
      "metadata": {
        "id": "yLHa9sVoCQi4"
      },
      "execution_count": null,
      "outputs": []
    },
    {
      "cell_type": "markdown",
      "source": [
        "Далее, будем подбирать гиперпараметр n_estimators, отвечающий за количество деревьев в лесу"
      ],
      "metadata": {
        "id": "TMHitysVC2Y6"
      }
    },
    {
      "cell_type": "code",
      "source": [
        "n_estimators_list = [x for x in range(100, 1100, 100)]\n",
        "test_error = []\n",
        "train_error = []\n",
        "for n_estimators in n_estimators_list:\n",
        "    rf = RandomForestClassifier(n_estimators=n_estimators)\n",
        "    rf.fit(X_train, Y_train)\n",
        "\n",
        "    Y_train_pred = rf.predict(X_train)\n",
        "    Y_test_pred = rf.predict(X_test)\n",
        "\n",
        "    train_error.append(mean_squared_error(Y_train, Y_train_pred))\n",
        "    test_error.append(mean_squared_error(Y_test, Y_test_pred))"
      ],
      "metadata": {
        "id": "kemPZdfFvXli"
      },
      "execution_count": null,
      "outputs": []
    },
    {
      "cell_type": "code",
      "source": [
        "fig, ax = plt.subplots()\n",
        "\n",
        "ax.plot(n_estimators_list, train_error, 'b-o', label = 'train')\n",
        "ax.plot(n_estimators_list, test_error, 'r-o', label = 'test')\n",
        "#ax.set_xlim([np.min(max_depths), np.max(max_depths)])\n",
        "ax.set_title('Error vs n_estimators')\n",
        "ax.set_xlabel('n_estimators')\n",
        "ax.set_ylabel('error')\n",
        "ax.legend()\n",
        "plt.show()"
      ],
      "metadata": {
        "id": "p-lfByX4ywDD"
      },
      "execution_count": null,
      "outputs": []
    },
    {
      "cell_type": "code",
      "source": [
        "min_train_error = np.min(train_error)\n",
        "min_test_error = np.min(test_error)\n",
        "print(\"Минимальное значение ошибки на обучающей выборке: %.2f%%; и на тренировочной выборке: %.2f%%\"%(min_test_error,min_train_error))"
      ],
      "metadata": {
        "id": "Om5cHldlGvuv"
      },
      "execution_count": null,
      "outputs": []
    },
    {
      "cell_type": "markdown",
      "source": [
        "Оптимальное значение n_estimators:"
      ],
      "metadata": {
        "id": "VSmaUZo9G6K-"
      }
    },
    {
      "cell_type": "code",
      "source": [
        "n_estimators_opt = n_estimators_list[test_error.index(min_test_error)]\n",
        "print(n_estimators_opt)"
      ],
      "metadata": {
        "id": "c7SbBYT0HAtj"
      },
      "execution_count": null,
      "outputs": []
    },
    {
      "cell_type": "markdown",
      "source": [
        "Теперь проведём запуск метода случайных деревьев с подобранными оптимальными гиперпараметрами: max_depth=60, n_estimators = 200;"
      ],
      "metadata": {
        "id": "9f6W7rEpHT64"
      }
    },
    {
      "cell_type": "code",
      "source": [
        "rf = RandomForestClassifier(max_depth=60, n_estimators = 200)\n",
        "rf.fit(X_train, Y_train)\n",
        "\n",
        "Y_train_pred = rf.predict(X_train)\n",
        "Y_test_pred = rf.predict(X_test)"
      ],
      "metadata": {
        "id": "D4oMTKSvHTSe"
      },
      "execution_count": null,
      "outputs": []
    },
    {
      "cell_type": "code",
      "source": [
        "print(\"ошибка на обучающей выборке: %.2f%%; и ошибка на тренировочной: %.2f%%\"%(mean_squared_error(Y_train, Y_train_pred) * 100, mean_squared_error(Y_test, Y_test_pred) * 100))"
      ],
      "metadata": {
        "id": "-tSLQSD_IIbq"
      },
      "execution_count": null,
      "outputs": []
    }
  ],
  "metadata": {
    "colab": {
      "provenance": [],
      "collapsed_sections": [
        "jnGXOq2M8UeD",
        "yG_3iF2mFwip",
        "9GEahp_O8l9s",
        "9ovPyFgjovwr",
        "kFWTTlGPuKQh",
        "FJo2WaMLznVi"
      ]
    },
    "kernelspec": {
      "display_name": "Python 3",
      "language": "python",
      "name": "python3"
    },
    "language_info": {
      "codemirror_mode": {
        "name": "ipython",
        "version": 3
      },
      "file_extension": ".py",
      "mimetype": "text/x-python",
      "name": "python",
      "nbconvert_exporter": "python",
      "pygments_lexer": "ipython3",
      "version": "3.8.8"
    }
  },
  "nbformat": 4,
  "nbformat_minor": 0
}